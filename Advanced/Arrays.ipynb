{
 "cells": [
  {
   "cell_type": "markdown",
   "id": "dde6aa66",
   "metadata": {},
   "source": [
    "# Arrays in Python"
   ]
  },
  {
   "cell_type": "markdown",
   "id": "a7e1f935",
   "metadata": {},
   "source": [
    "## Array is a container that contains multiple values of the same type"
   ]
  },
  {
   "cell_type": "markdown",
   "id": "3aa19c19",
   "metadata": {},
   "source": [
    "### Arrays hold multiple value of same type\n",
    "from array import *\n",
    "\n",
    "### syntax:\n",
    "####       var_name = array (type code [elements])\n",
    "####                           typecode is written below also the img is attached in the folder\n",
    "\n",
    "arr = array('i', [1, 2, 3, 4, 5])  # i stands for integers\n",
    "print(arr)\n",
    "\n",
    "print(arr.buffer_info())  # This gives info about the location of the array on our device along with it's location\n",
    "\n",
    "### Accessing arrays is also done via index numbers starting form 0\n",
    "print(arr[2])\n",
    "\n",
    "print()\n",
    "\n",
    "### For loops can also be used on Arrays\n",
    "for i in arr:\n",
    "    print(i)\n",
    "###  the main difference between accessing an array via loops and print method is that in print it also gives the\n",
    "###  useless info such as 'array' 'i' then the square brackets etc etc\n",
    "\n",
    "print()\n",
    "\n",
    "### To get the pointers(index numbers) along side with the values we use\n",
    "for pnt in range(5):\n",
    "    print(pnt, arr[pnt])\n",
    "\n",
    "print()\n",
    "\n",
    "### We can also reverse an Array\n",
    "arr.reverse()\n",
    "print(arr)\n",
    "\n",
    "print()\n",
    "\n",
    "###  It also has append attribute\n",
    "arr.append(36)\n",
    "print(arr)\n",
    "\n",
    "print()\n",
    "\n",
    "### Same for the remove function\n",
    "arr.remove(36)\n",
    "print(arr)\n",
    "\n",
    "print()\n",
    "\n",
    "arr.reverse()\n",
    "print(arr)\n",
    "print()\n",
    "### To get the element at a particular index number we use,\n",
    "print(arr[3])\n",
    "### And To get the index number of a particular element we use,\n",
    "print(arr.index(4))\n",
    "\n",
    "### Let's create an array by taking the inputs from the user\n",
    "usr = array(\"i\", [])\n",
    "s = int(input(\"Size of your array: \"))\n",
    "print(\"Enter %d elements\" % s)\n",
    "for i in range(s):\n",
    "    x = (int(input()))\n",
    "    usr.append(x)\n",
    "print(usr"
   ]
  },
  {
   "cell_type": "code",
   "execution_count": 1,
   "id": "0fee6662",
   "metadata": {},
   "outputs": [
    {
     "name": "stdout",
     "output_type": "stream",
     "text": [
      "array('i', [-1, 2, 3, 4, 5])\n"
     ]
    }
   ],
   "source": [
    "from array import*\n",
    "\n",
    "arr=array('i',[-1,2,3,4,5])\n",
    "print(arr)"
   ]
  },
  {
   "cell_type": "code",
   "execution_count": 2,
   "id": "6f24b837",
   "metadata": {},
   "outputs": [
    {
     "name": "stdout",
     "output_type": "stream",
     "text": [
      "(1520049893872, 5)\n"
     ]
    }
   ],
   "source": [
    "print(arr.buffer_info())"
   ]
  },
  {
   "cell_type": "code",
   "execution_count": 3,
   "id": "fc45ff22",
   "metadata": {},
   "outputs": [
    {
     "name": "stdout",
     "output_type": "stream",
     "text": [
      "3\n"
     ]
    }
   ],
   "source": [
    "print(arr[2])"
   ]
  },
  {
   "cell_type": "code",
   "execution_count": 4,
   "id": "d1d1a51f",
   "metadata": {},
   "outputs": [
    {
     "name": "stdout",
     "output_type": "stream",
     "text": [
      "-1\n",
      "2\n",
      "3\n",
      "4\n",
      "5\n"
     ]
    }
   ],
   "source": [
    "for i in arr:\n",
    "    print(i)"
   ]
  },
  {
   "cell_type": "code",
   "execution_count": 5,
   "id": "18e3da4e",
   "metadata": {},
   "outputs": [
    {
     "name": "stdout",
     "output_type": "stream",
     "text": [
      "0 -1\n",
      "1 2\n",
      "2 3\n",
      "3 4\n"
     ]
    }
   ],
   "source": [
    "for pnt in range(4):\n",
    "    print(pnt,arr[pnt])"
   ]
  },
  {
   "cell_type": "code",
   "execution_count": 6,
   "id": "f586c4a8",
   "metadata": {},
   "outputs": [
    {
     "name": "stdout",
     "output_type": "stream",
     "text": [
      "array('i', [5, 4, 3, 2, -1])\n"
     ]
    }
   ],
   "source": [
    "arr.reverse()\n",
    "print(arr)"
   ]
  },
  {
   "cell_type": "code",
   "execution_count": 7,
   "id": "ae1fc3f3",
   "metadata": {},
   "outputs": [
    {
     "name": "stdout",
     "output_type": "stream",
     "text": [
      "(1520049893872, 5)\n"
     ]
    }
   ],
   "source": [
    "print(arr.buffer_info())"
   ]
  },
  {
   "cell_type": "code",
   "execution_count": 8,
   "id": "81770e8b",
   "metadata": {},
   "outputs": [],
   "source": [
    "arr.append(10)"
   ]
  },
  {
   "cell_type": "code",
   "execution_count": 9,
   "id": "04e4db03",
   "metadata": {},
   "outputs": [
    {
     "name": "stdout",
     "output_type": "stream",
     "text": [
      "array('i', [5, 4, 3, 2, -1, 10])\n"
     ]
    }
   ],
   "source": [
    "print(arr)"
   ]
  },
  {
   "cell_type": "code",
   "execution_count": 10,
   "id": "ad47931f",
   "metadata": {},
   "outputs": [],
   "source": [
    "arr.remove(5)"
   ]
  },
  {
   "cell_type": "code",
   "execution_count": 11,
   "id": "e24bca7c",
   "metadata": {},
   "outputs": [
    {
     "name": "stdout",
     "output_type": "stream",
     "text": [
      "array('i', [4, 3, 2, -1, 10])\n"
     ]
    }
   ],
   "source": [
    "print(arr)"
   ]
  },
  {
   "cell_type": "code",
   "execution_count": 12,
   "id": "69d9491a",
   "metadata": {},
   "outputs": [
    {
     "name": "stdout",
     "output_type": "stream",
     "text": [
      "2\n"
     ]
    }
   ],
   "source": [
    "print(arr.index(2))"
   ]
  },
  {
   "cell_type": "code",
   "execution_count": 19,
   "id": "45c62a4f",
   "metadata": {},
   "outputs": [
    {
     "name": "stdout",
     "output_type": "stream",
     "text": [
      "Enter a size of array : 4\n",
      "Enter 4 element\n",
      "array('i')\n",
      "1\n",
      "2\n",
      "3\n",
      "4\n",
      "array('i', [1, 2, 3, 4])\n"
     ]
    }
   ],
   "source": [
    "from array import *\n",
    "arr=array('i',[])\n",
    "x=int(input(\"Enter a size of array : \"))\n",
    "print(\"Enter %d element\"%x)\n",
    "print(arr)\n",
    "for i in range(x):\n",
    "    n=int(input())\n",
    "    arr.append(n)\n",
    "print(arr)"
   ]
  },
  {
   "cell_type": "code",
   "execution_count": 48,
   "id": "31132809",
   "metadata": {},
   "outputs": [
    {
     "name": "stdout",
     "output_type": "stream",
     "text": [
      "array('i', [1, 2, 3, 4, 5, 6])\n"
     ]
    }
   ],
   "source": [
    "from array import*\n",
    "arr=array('i',[1,2,3,4,5,6])\n",
    "print(arr)"
   ]
  },
  {
   "cell_type": "code",
   "execution_count": 49,
   "id": "5023daf8",
   "metadata": {},
   "outputs": [
    {
     "name": "stdout",
     "output_type": "stream",
     "text": [
      "(1520050803728, 6)\n"
     ]
    }
   ],
   "source": [
    "print(arr.buffer_info())"
   ]
  },
  {
   "cell_type": "code",
   "execution_count": 50,
   "id": "2eae9437",
   "metadata": {},
   "outputs": [
    {
     "name": "stdout",
     "output_type": "stream",
     "text": [
      "3\n"
     ]
    }
   ],
   "source": [
    "print(arr[2])"
   ]
  },
  {
   "cell_type": "code",
   "execution_count": 51,
   "id": "c9933dba",
   "metadata": {},
   "outputs": [
    {
     "name": "stdout",
     "output_type": "stream",
     "text": [
      "1\n",
      "2\n",
      "3\n",
      "4\n",
      "5\n",
      "6\n"
     ]
    }
   ],
   "source": [
    "for i in arr:\n",
    "    print(i)"
   ]
  },
  {
   "cell_type": "code",
   "execution_count": 52,
   "id": "9c6b6040",
   "metadata": {},
   "outputs": [
    {
     "name": "stdout",
     "output_type": "stream",
     "text": [
      "1\n",
      "2\n",
      "3\n",
      "5\n",
      "6\n"
     ]
    }
   ],
   "source": [
    "for i in arr:\n",
    "    if i==4:\n",
    "        continue\n",
    "    print(i)"
   ]
  },
  {
   "cell_type": "code",
   "execution_count": 53,
   "id": "1c575f29",
   "metadata": {},
   "outputs": [
    {
     "name": "stdout",
     "output_type": "stream",
     "text": [
      "0 1\n",
      "1 2\n",
      "2 3\n",
      "3 4\n",
      "4 5\n"
     ]
    }
   ],
   "source": [
    "for pnt in range (5):\n",
    "    print(pnt,arr[pnt])"
   ]
  },
  {
   "cell_type": "code",
   "execution_count": 54,
   "id": "a627e985",
   "metadata": {},
   "outputs": [],
   "source": [
    "arr.reverse()"
   ]
  },
  {
   "cell_type": "code",
   "execution_count": 55,
   "id": "584c0521",
   "metadata": {},
   "outputs": [],
   "source": [
    "arr.append(100)"
   ]
  },
  {
   "cell_type": "code",
   "execution_count": 56,
   "id": "b7073e05",
   "metadata": {},
   "outputs": [
    {
     "name": "stdout",
     "output_type": "stream",
     "text": [
      "array('i', [6, 5, 4, 3, 2, 1, 100])\n"
     ]
    }
   ],
   "source": [
    "print(arr)"
   ]
  },
  {
   "cell_type": "code",
   "execution_count": 57,
   "id": "e8f99bcb",
   "metadata": {},
   "outputs": [],
   "source": [
    "arr.remove(6)"
   ]
  },
  {
   "cell_type": "code",
   "execution_count": 58,
   "id": "70e695cd",
   "metadata": {},
   "outputs": [
    {
     "name": "stdout",
     "output_type": "stream",
     "text": [
      "array('i', [5, 4, 3, 2, 1, 100])\n"
     ]
    }
   ],
   "source": [
    "print(arr)"
   ]
  },
  {
   "cell_type": "code",
   "execution_count": 59,
   "id": "5e949b87",
   "metadata": {},
   "outputs": [
    {
     "data": {
      "text/plain": [
       "4"
      ]
     },
     "execution_count": 59,
     "metadata": {},
     "output_type": "execute_result"
    }
   ],
   "source": [
    "arr.index(1)"
   ]
  },
  {
   "cell_type": "code",
   "execution_count": 1,
   "id": "b0c65b6d",
   "metadata": {},
   "outputs": [
    {
     "ename": "NameError",
     "evalue": "name 'arr' is not defined",
     "output_type": "error",
     "traceback": [
      "\u001b[1;31m---------------------------------------------------------------------------\u001b[0m",
      "\u001b[1;31mNameError\u001b[0m                                 Traceback (most recent call last)",
      "\u001b[1;32m<ipython-input-1-88e6560bf582>\u001b[0m in \u001b[0;36m<module>\u001b[1;34m\u001b[0m\n\u001b[1;32m----> 1\u001b[1;33m \u001b[0mprint\u001b[0m\u001b[1;33m(\u001b[0m\u001b[0marr\u001b[0m\u001b[1;33m.\u001b[0m\u001b[0mbuffer_info\u001b[0m\u001b[1;33m(\u001b[0m\u001b[1;33m)\u001b[0m\u001b[1;33m)\u001b[0m\u001b[1;33m\u001b[0m\u001b[1;33m\u001b[0m\u001b[0m\n\u001b[0m",
      "\u001b[1;31mNameError\u001b[0m: name 'arr' is not defined"
     ]
    }
   ],
   "source": [
    "print(arr.buffer_info())\n"
   ]
  },
  {
   "cell_type": "code",
   "execution_count": 6,
   "id": "5a1b1835",
   "metadata": {},
   "outputs": [
    {
     "name": "stdout",
     "output_type": "stream",
     "text": [
      "Hello World!\n",
      "Hello World!\n"
     ]
    }
   ],
   "source": [
    "def sayHello():\n",
    "    print('Hello World!')\n",
    "sayHello()\n",
    "sayHello()"
   ]
  },
  {
   "cell_type": "code",
   "execution_count": null,
   "id": "aa739b46",
   "metadata": {},
   "outputs": [],
   "source": []
  },
  {
   "cell_type": "code",
   "execution_count": null,
   "id": "130d19a2",
   "metadata": {},
   "outputs": [],
   "source": []
  }
 ],
 "metadata": {
  "kernelspec": {
   "display_name": "Python 3",
   "language": "python",
   "name": "python3"
  },
  "language_info": {
   "codemirror_mode": {
    "name": "ipython",
    "version": 3
   },
   "file_extension": ".py",
   "mimetype": "text/x-python",
   "name": "python",
   "nbconvert_exporter": "python",
   "pygments_lexer": "ipython3",
   "version": "3.8.8"
  }
 },
 "nbformat": 4,
 "nbformat_minor": 5
}

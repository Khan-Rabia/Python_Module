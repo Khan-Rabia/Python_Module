{
 "cells": [
  {
   "cell_type": "markdown",
   "id": "b994004f",
   "metadata": {},
   "source": [
    "##### A process is a executable instance of a computer program, that means anything that is running on our computer is a process,\n",
    "##### A notepad in which we are writing , the mail we are sending....everyyhing is a process"
   ]
  },
  {
   "cell_type": "markdown",
   "id": "970bf744",
   "metadata": {},
   "source": [
    "### What is Thread ?"
   ]
  },
  {
   "cell_type": "markdown",
   "id": "349b1004",
   "metadata": {},
   "source": [
    "## A Thread exist within the process"
   ]
  },
  {
   "cell_type": "markdown",
   "id": "061f9c19",
   "metadata": {},
   "source": [
    "#### A thread is a sequence of instructions in a program that can be executed independently of the remaining program"
   ]
  },
  {
   "cell_type": "markdown",
   "id": "400403ed",
   "metadata": {},
   "source": [
    "When we create a large program, there are many small tasks that the program performs.\n",
    "so each of these small tasks can be a thread as long as their execution is independent of the execution of the other task "
   ]
  },
  {
   "cell_type": "markdown",
   "id": "da5926bc",
   "metadata": {},
   "source": [
    "The ponit of threading is to make the optimum utilization of the cores.\n",
    "if one program would run on a single thread that means it will use just that one core/cpu.\n",
    "\n",
    "But If can divide into multiple threads and each of these threads uses differnet CPU's or core , \n",
    "Then The program will executed much faster and efficiently"
   ]
  },
  {
   "cell_type": "code",
   "execution_count": 7,
   "id": "dc416270",
   "metadata": {},
   "outputs": [
    {
     "name": "stdout",
     "output_type": "stream",
     "text": [
      "This is our Child Thread\n"
     ]
    }
   ],
   "source": [
    "from threading import *\n",
    "def show():\n",
    "    print(\"This is our Child Thread\")\n",
    "t= Thread(target)"
   ]
  },
  {
   "cell_type": "markdown",
   "id": "5d01c89a",
   "metadata": {},
   "source": [
    "### NOTES : "
   ]
  },
  {
   "cell_type": "code",
   "execution_count": 1,
   "id": "f1eb4963",
   "metadata": {},
   "outputs": [],
   "source": [
    "# Threading\n",
    "# A Process:\n",
    "#           A Process is an executable instance of a computer program\n",
    "# A Thread exists within a Process\n",
    "\n",
    "# A Thread:\n",
    "#           A Thread is a sequence of instructions in a program that can be executed independently  of the remaining\n",
    "#           program\n",
    "#\n",
    "# How to use:\n",
    "# 1) from threading Import *\n",
    "# 2) create a method which will run on a child thread and the other part on a main thread\n",
    "\n",
    "from threading import *\n",
    "\n",
    "# Let's create an example to show the working of Thread\n",
    "\n",
    "# 1st Way of using threads\n",
    "\n",
    "# def show():  # A method is created\n",
    "#     print(\"This is child thread\")\n",
    "#\n",
    "#\n",
    "# t = Thread(target=show())\n",
    "# t.start()\n",
    "#\n",
    "# print(\"This is parent thread\")\n",
    "\n",
    "# print()\n",
    "\n",
    "\n",
    "# 2nd Way of using threads\n",
    "# In this child thread t is running on1 thread and the for loop below it is running on the main thread simultaneously,\n",
    "# Hence the output will be a mix-matched of both the codes (It is context Switching, we do not know the order of the\n",
    "# output)\n",
    "\n",
    "\n",
    "# class MyThread(Thread):\n",
    "#     def run(self):\n",
    "#         for i in range(5):\n",
    "#             print(\"\\nThis is child class\")\n",
    "#\n",
    "#\n",
    "# t = MyThread()\n",
    "# t.start()\n",
    "#\n",
    "# for i in range(5):\n",
    "#     print(\"\\nThis is main thread\")\n",
    "\n",
    "\n",
    "# 3rd Way of using threads\n",
    "# In this child thread t is calling out the target obj and as obj=Demo class, the class demo is running on 1  thread\n",
    "# and the for loop below it is running on the main thread after the object obj is done running,\n",
    "# Hence the output will give the output of both the codes one after the another and not simultaneously\n",
    "\n",
    "# class Demo:\n",
    "#     def show(self):\n",
    "#         for i in range(5):\n",
    "#             print(\"This is the child thread\")\n",
    "#\n",
    "#\n",
    "# obj = Demo()\n",
    "# t = Thread(target=obj.show())\n",
    "# t.start()\n",
    "#\n",
    "# for i in range(5):\n",
    "#     print(\"This is the parent thread\")\n",
    "\n",
    "# Context Switching:\n",
    "#                   Storing the state of a Process/Thread and resuming its execution at a later time is called\n",
    "#                   Context Switching (We saw this in the 2nd way above)\n",
    "\n",
    "# Multithreading:\n",
    "#               A model where the multiple threads within a process execute independently while sharing the same\n",
    "#               resources is called multithreading"
   ]
  },
  {
   "cell_type": "code",
   "execution_count": null,
   "id": "ba4d0d32",
   "metadata": {},
   "outputs": [],
   "source": []
  }
 ],
 "metadata": {
  "kernelspec": {
   "display_name": "Python 3",
   "language": "python",
   "name": "python3"
  },
  "language_info": {
   "codemirror_mode": {
    "name": "ipython",
    "version": 3
   },
   "file_extension": ".py",
   "mimetype": "text/x-python",
   "name": "python",
   "nbconvert_exporter": "python",
   "pygments_lexer": "ipython3",
   "version": "3.8.8"
  }
 },
 "nbformat": 4,
 "nbformat_minor": 5
}

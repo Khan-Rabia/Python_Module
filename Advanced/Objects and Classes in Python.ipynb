{
 "cells": [
  {
   "cell_type": "markdown",
   "id": "1fda7de2",
   "metadata": {},
   "source": [
    "Q.   What is an Object ?\n",
    "\n",
    "---> Everthing in a real World is an Object, A Table, A Chair, A Pen and YOU is an Object\n",
    "\n",
    "Q.   What is a Class ?\n",
    "\n",
    "---> A Class is a Blueprint of Similar Objects,\n",
    "    So We have a lot of objects in Python paradigm, all this objects have some similar features\n",
    "    So The Class holds all this objects togather and gives them a common defination"
   ]
  },
  {
   "cell_type": "markdown",
   "id": "255dd7df",
   "metadata": {},
   "source": [
    "The Example to this is,\n",
    "\n",
    "A person\n",
    "- Considering Person as A Class\n",
    "\n",
    "A Person must has a Features and behaviour\n",
    "\n",
    "Lets See What is an Object now....\n",
    "\n",
    "The Values of the features are Objects\n",
    "\n",
    "Person\n",
    "\n",
    "Name  : Sam            \n",
    "Gender: Male                \n",
    "Age   : 22             \n",
    "Talk                   \n",
    "Vote"
   ]
  },
  {
   "cell_type": "markdown",
   "id": "7660f4d6",
   "metadata": {},
   "source": [
    "Name  : Mia                                                 \n",
    "Gender: Female                                         \n",
    "Age   : 16                                                    \n",
    "Talk                                                                        \n",
    "Vote                  "
   ]
  },
  {
   "cell_type": "markdown",
   "id": "5f6af070",
   "metadata": {},
   "source": [
    "What is Methods?\n",
    "---> Metods are just like Function but A Function that are called through an object or tied to an Object is called as Methods.\n",
    "\n",
    "Everything that you create in Python is an Object."
   ]
  },
  {
   "cell_type": "code",
   "execution_count": 42,
   "id": "7382ffca",
   "metadata": {},
   "outputs": [
    {
     "name": "stdout",
     "output_type": "stream",
     "text": [
      "Hi I am  Sam\n",
      "I am eligible to vote\n"
     ]
    }
   ],
   "source": [
    "class Person:\n",
    "    \n",
    "    def __init__(self):\n",
    "        self.name=\"Sam\"\n",
    "        self.gender=\"Male\"\n",
    "        self.age=22\n",
    "    \n",
    "        \n",
    "        # for Behaviour We'll create a method\n",
    "        \n",
    "    def talk(self):\n",
    "        print(\"Hi I am \",self.name)\n",
    "            \n",
    "    def vote(self):\n",
    "        if self.age<18:\n",
    "            print(\"I am not eligible to vote\")\n",
    "        else:\n",
    "            print(\"I am eligible to vote\")\n",
    "                \n",
    "obj=Person()\n",
    "#Person.talk(obj)\n",
    "#Person.vote(obj)\n",
    "obj.talk()\n",
    "obj.vote()\n",
    "        \n",
    "                "
   ]
  },
  {
   "cell_type": "code",
   "execution_count": 44,
   "id": "de263a21",
   "metadata": {},
   "outputs": [
    {
     "name": "stdout",
     "output_type": "stream",
     "text": [
      "Sam\n",
      "Hi I am  Sam\n",
      "I am eligible to vote\n",
      "Mia\n",
      "Hi I am  Mia\n",
      "I am not eligible to vote\n"
     ]
    }
   ],
   "source": [
    "class Person:\n",
    "    \n",
    "    def __init__(self,n,g,a):\n",
    "        self.name=n\n",
    "        self.gender=g\n",
    "        self.age=a\n",
    "    \n",
    "        \n",
    "        # for Behaviour We'll create a method\n",
    "        \n",
    "    def talk(self):\n",
    "        print(\"Hi I am \",self.name)\n",
    "            \n",
    "    def vote(self):\n",
    "        if self.age<18:\n",
    "            print(\"I am not eligible to vote\")\n",
    "        else:\n",
    "            print(\"I am eligible to vote\")\n",
    "                \n",
    "obj1=Person(\"Sam\",\"Male\",22)\n",
    "print(obj1.name)\n",
    "obj1.talk()\n",
    "obj1.vote()\n",
    "obj2=Person(\"Mia\",\"Female\",16)\n",
    "print(obj2.name)\n",
    "obj2.talk()\n",
    "obj2.vote()\n",
    "                "
   ]
  },
  {
   "cell_type": "code",
   "execution_count": 11,
   "id": "857be0a5",
   "metadata": {},
   "outputs": [
    {
     "name": "stdout",
     "output_type": "stream",
     "text": [
      "Sam\n",
      "Hi, I am  Sam\n",
      "I am not eligible to vote\n",
      "Jesse\n",
      "Hi, I am  Jesse\n",
      "I am not eligible to vote\n",
      "Mia\n",
      "Hi, I am  Mia\n",
      "I am not eligible to vote\n"
     ]
    }
   ],
   "source": [
    "class Person:\n",
    "    def __init__(self,n,g,a):\n",
    "        self.name=n\n",
    "        self.gender=g\n",
    "        self.age=a\n",
    "    def talk(self):\n",
    "        print(\"Hi, I am \",self.name)\n",
    "    def vote(self):\n",
    "        if self.age<18:\n",
    "            print(\"I am eligible to vote \")\n",
    "        else:\n",
    "            print(\"I am not eligible to vote\")\n",
    "\n",
    "obj1=Person(\"Sam\",\"Male\",22)\n",
    "print(obj1.name)\n",
    "obj1.talk()\n",
    "obj1.vote()\n",
    "obj2=Person(\"Jesse\",\"Female\",19)\n",
    "print(obj2.name)\n",
    "obj2.talk()\n",
    "obj2.vote()\n",
    "obj3=Person(\"Mia\",\"Female\",18)\n",
    "print(obj3.name)\n",
    "obj3.talk()\n",
    "obj3.vote()\n",
    "    "
   ]
  },
  {
   "cell_type": "code",
   "execution_count": 25,
   "id": "0bf12147",
   "metadata": {},
   "outputs": [
    {
     "name": "stdout",
     "output_type": "stream",
     "text": [
      "Prince\n"
     ]
    },
    {
     "ename": "TypeError",
     "evalue": "'int' object is not callable",
     "output_type": "error",
     "traceback": [
      "\u001b[1;31m---------------------------------------------------------------------------\u001b[0m",
      "\u001b[1;31mTypeError\u001b[0m                                 Traceback (most recent call last)",
      "\u001b[1;32m<ipython-input-25-a9019b594d26>\u001b[0m in \u001b[0;36m<module>\u001b[1;34m\u001b[0m\n\u001b[0;32m     11\u001b[0m \u001b[0mobj1\u001b[0m\u001b[1;33m=\u001b[0m\u001b[0mlooks\u001b[0m\u001b[1;33m(\u001b[0m\u001b[1;34m\"Prince\"\u001b[0m\u001b[1;33m,\u001b[0m\u001b[1;34m\"Male\"\u001b[0m\u001b[1;33m,\u001b[0m\u001b[1;36m6\u001b[0m\u001b[1;33m)\u001b[0m\u001b[1;33m\u001b[0m\u001b[1;33m\u001b[0m\u001b[0m\n\u001b[0;32m     12\u001b[0m \u001b[0mprint\u001b[0m\u001b[1;33m(\u001b[0m\u001b[0mobj1\u001b[0m\u001b[1;33m.\u001b[0m\u001b[0mname\u001b[0m\u001b[1;33m)\u001b[0m\u001b[1;33m\u001b[0m\u001b[1;33m\u001b[0m\u001b[0m\n\u001b[1;32m---> 13\u001b[1;33m \u001b[0mobj1\u001b[0m\u001b[1;33m.\u001b[0m\u001b[0mheight\u001b[0m\u001b[1;33m(\u001b[0m\u001b[1;33m)\u001b[0m\u001b[1;33m\u001b[0m\u001b[1;33m\u001b[0m\u001b[0m\n\u001b[0m\u001b[0;32m     14\u001b[0m \u001b[1;33m\u001b[0m\u001b[0m\n\u001b[0;32m     15\u001b[0m \u001b[1;33m\u001b[0m\u001b[0m\n",
      "\u001b[1;31mTypeError\u001b[0m: 'int' object is not callable"
     ]
    }
   ],
   "source": [
    "class looks:\n",
    "    def __init__(self,n,g,h):\n",
    "        self.name=n\n",
    "        self.gender=g\n",
    "        self.height=h\n",
    "    def height(self):\n",
    "        if self.height<5:\n",
    "            print(\"You are not eligible to do a modelling\")\n",
    "        else:\n",
    "            print(\"You are eligible to do a modelling\")\n",
    "obj1=looks(\"Prince\",\"Male\",6)\n",
    "print(obj1.name)\n",
    "obj1.height()\n",
    "        \n",
    "    "
   ]
  },
  {
   "cell_type": "markdown",
   "id": "ff6bbe6d",
   "metadata": {},
   "source": [
    "## OOPS"
   ]
  },
  {
   "cell_type": "markdown",
   "id": "844927e1",
   "metadata": {},
   "source": [
    "Every Instance in Python is an Object\n",
    "\n",
    "An Object has--------------->1.Attributes: Data describing the object\n",
    "    \n",
    "                      2.Behaviour: Methods on the Attributes\n",
    "                      \n",
    "                      EXAMPLE: BMW\n",
    "                              Attributes: Data describing the objects\n",
    "                                      eg-->Year of manufacturing, Maximum speed\n",
    "                                   \n",
    "                              Behaviour: Methods on the attribute\n",
    "                                      eg-->Display speed, change speed\n",
    "                      \n",
    "                      Example: A Car\n",
    "                      --->Class is a collection of similar product \n",
    "                      ie,\n",
    "                      CARS:\n",
    "                      1. Audi\n",
    "                      2. BMW\n",
    "                      3. FORD"
   ]
  },
  {
   "cell_type": "code",
   "execution_count": 23,
   "id": "df87c86b",
   "metadata": {},
   "outputs": [
    {
     "name": "stdout",
     "output_type": "stream",
     "text": [
      "Maximum speed is  155\n",
      "Setting speed is 143\n",
      "Maximum speed is  143\n",
      "Setting speed is 220\n",
      "Maximum speed is  220\n"
     ]
    }
   ],
   "source": [
    "class car:\n",
    "    \n",
    "    def __init__(self,year,speed):\n",
    "        self.year=year\n",
    "        self.speed=speed\n",
    "    def getSpeed(self):\n",
    "        print(\"Maximum speed is \",self.speed)\n",
    "    def setSpeed(self,speed):\n",
    "        self.speed=speed\n",
    "        print(\"Setting speed is\",self.speed)\n",
    "\n",
    "BMW = car(2018,155)\n",
    "FORD = car(2016,140)\n",
    "\n",
    "BMW.getSpeed()\n",
    "BMW.setSpeed(143)\n",
    "BMW.getSpeed()\n",
    "FORD.setSpeed(220)\n",
    "FORD.getSpeed()"
   ]
  },
  {
   "cell_type": "markdown",
   "id": "800a45aa",
   "metadata": {},
   "source": [
    "# Inheritance"
   ]
  },
  {
   "cell_type": "markdown",
   "id": "94e9740d",
   "metadata": {},
   "source": [
    "Inheritance is a mechanism for a new class to use the features os another class"
   ]
  },
  {
   "cell_type": "code",
   "execution_count": 26,
   "id": "27179a22",
   "metadata": {},
   "outputs": [
    {
     "name": "stdout",
     "output_type": "stream",
     "text": [
      "Maximum speed is  155\n",
      "Maximum speed is  150\n",
      "The trunk has been opened\n"
     ]
    }
   ],
   "source": [
    "class car:\n",
    "    \n",
    "    def __init__(self,year,speed):\n",
    "        self.year=year\n",
    "        self.speed=speed\n",
    "    def getSpeed(self):\n",
    "        print(\"Maximum speed25999969\n",
    "              3+is \",self.speed)\n",
    "    def setSpeed(self,speed):\n",
    "        self.speed=speed\n",
    "        print(\"Setting speed is\",self.speed)\n",
    "        \n",
    "\n",
    "\n",
    "BMW = car(2018,155)\n",
    "FORD = car(2016,140)\n",
    "\n",
    "class Sedan(car): #Child class\n",
    "    def accelerate(self):\n",
    "        print('137')\n",
    "    \n",
    "    def openTrunk(self):\n",
    "        print(\"The trunk has been opened\")\n",
    "class SUV(car):\n",
    "    def accelerate(self):\n",
    "        print('127')\n",
    "\n",
    "Honda=Sedan(2018,150)\n",
    "BMW.getSpeed()\n",
    "Honda.getSpeed()\n",
    "Honda.openTrunk()"
   ]
  },
  {
   "cell_type": "markdown",
   "id": "d0b3872f",
   "metadata": {},
   "source": [
    "# POLYMORPHISM"
   ]
  },
  {
   "cell_type": "markdown",
   "id": "f3356ad6",
   "metadata": {},
   "source": [
    "##### Polymorphism is th way of using the function multiple ways."
   ]
  },
  {
   "cell_type": "markdown",
   "id": "1836f489",
   "metadata": {},
   "source": [
    "# ENCAPSULATION"
   ]
  },
  {
   "cell_type": "markdown",
   "id": "d03f2c1b",
   "metadata": {},
   "source": [
    "##### The function of preventing data from direct access is called Encapsulation"
   ]
  },
  {
   "cell_type": "code",
   "execution_count": null,
   "id": "5345d5a4",
   "metadata": {},
   "outputs": [],
   "source": []
  },
  {
   "cell_type": "code",
   "execution_count": null,
   "id": "4c49af53",
   "metadata": {},
   "outputs": [],
   "source": []
  }
 ],
 "metadata": {
  "kernelspec": {
   "display_name": "Python 3",
   "language": "python",
   "name": "python3"
  },
  "language_info": {
   "codemirror_mode": {
    "name": "ipython",
    "version": 3
   },
   "file_extension": ".py",
   "mimetype": "text/x-python",
   "name": "python",
   "nbconvert_exporter": "python",
   "pygments_lexer": "ipython3",
   "version": "3.8.8"
  }
 },
 "nbformat": 4,
 "nbformat_minor": 5
}

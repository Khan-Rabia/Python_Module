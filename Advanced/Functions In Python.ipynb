{
 "cells": [
  {
   "cell_type": "markdown",
   "id": "479bf392",
   "metadata": {},
   "source": [
    "##### A Function is a set of code that perform some task"
   ]
  },
  {
   "cell_type": "markdown",
   "id": "2c4f627c",
   "metadata": {},
   "source": [
    "###### SYNTAX :\n",
    "    def function_name:\n",
    "        statements(s)"
   ]
  },
  {
   "cell_type": "code",
   "execution_count": 6,
   "id": "94c04420",
   "metadata": {},
   "outputs": [
    {
     "name": "stdout",
     "output_type": "stream",
     "text": [
      "Good Morning Rabia!\n"
     ]
    }
   ],
   "source": [
    "def welcome(): #Empty parantheses\n",
    "    print(\"Good Morning Rabia!\")\n",
    "welcome()\n"
   ]
  },
  {
   "cell_type": "code",
   "execution_count": 15,
   "id": "1e3a7219",
   "metadata": {},
   "outputs": [
    {
     "name": "stdout",
     "output_type": "stream",
     "text": [
      "a:10     b:20\n",
      "The sum is  30\n",
      "a:10     b:20\n",
      "The sum is  30\n"
     ]
    }
   ],
   "source": [
    "def add(a,b):\n",
    "    total = a + b\n",
    "    print(\"a:%d     b:%d\" %(a,b))\n",
    "    print(\"The sum is \" ,total)\n",
    "add(10,20)\n",
    "x=10\n",
    "y=20\n",
    "add(x,y)"
   ]
  },
  {
   "cell_type": "code",
   "execution_count": 20,
   "id": "59bf28b0",
   "metadata": {},
   "outputs": [
    {
     "name": "stdout",
     "output_type": "stream",
     "text": [
      "The subtraction is  10\n",
      "The Value of a:20   The Value of b:10  \n",
      "The subtraction is  13\n",
      "The Value of a:15   The Value of b:2  \n"
     ]
    }
   ],
   "source": [
    "def sub(a,b):\n",
    "    total=a-b\n",
    "    print(\"The subtraction is \",total)\n",
    "    print(\"The Value of a:%d   The Value of b:%d  \"%(a,b))\n",
    "sub(20,10)\n",
    "x=15\n",
    "y=2\n",
    "sub(x,y)"
   ]
  },
  {
   "cell_type": "code",
   "execution_count": 25,
   "id": "fa9a9dde",
   "metadata": {},
   "outputs": [
    {
     "name": "stdout",
     "output_type": "stream",
     "text": [
      "The Multiplication is  4\n",
      "a:2      b:2\n",
      "The Multiplication is  8100\n",
      "a:90      b:90\n"
     ]
    }
   ],
   "source": [
    "def Multi(a,b):\n",
    "    total=a*b\n",
    "    print(\"The Multiplication is \",total)\n",
    "    print(\"a:%d      b:%d\" %(a,b))\n",
    "Multi(2,2)\n",
    "x=90\n",
    "y=90\n",
    "Multi(x,y)"
   ]
  },
  {
   "cell_type": "code",
   "execution_count": 31,
   "id": "51a4e1bd",
   "metadata": {},
   "outputs": [
    {
     "name": "stdout",
     "output_type": "stream",
     "text": [
      "The Division is  9.0\n",
      "a:27   b:3\n",
      "The Division is  0.1111111111111111\n",
      "a:3   b:27\n"
     ]
    }
   ],
   "source": [
    "def div(a,b):\n",
    "    total=a/b or b/a\n",
    "    print(\"The Division is \",total)\n",
    "    print(\"a:%d   b:%d\"%(a,b))\n",
    "x=27\n",
    "y=3\n",
    "div(x,y)\n",
    "div(y,x)"
   ]
  },
  {
   "cell_type": "code",
   "execution_count": 33,
   "id": "52e441fa",
   "metadata": {},
   "outputs": [
    {
     "name": "stdout",
     "output_type": "stream",
     "text": [
      "The addition is  113\n",
      "The addition is  55\n"
     ]
    }
   ],
   "source": [
    "def add(a,b):\n",
    "    total=a+b\n",
    "    print(\"The addition is \",total)\n",
    "x=70\n",
    "y=43\n",
    "add(a=x,b=y)\n",
    "add(a=45,b=10)"
   ]
  },
  {
   "cell_type": "markdown",
   "id": "b03e2bba",
   "metadata": {},
   "source": [
    "If we will pass only one argument, we'll get an error because the defined function requires two arguments\n",
    "so in order to overcome that, we can set the default value as zero"
   ]
  },
  {
   "cell_type": "code",
   "execution_count": 34,
   "id": "fe0d9ecb",
   "metadata": {},
   "outputs": [
    {
     "name": "stdout",
     "output_type": "stream",
     "text": [
      "The addition is  5\n"
     ]
    }
   ],
   "source": [
    "def add(a=0,b=0):\n",
    "    total=a+b\n",
    "    print(\"The addition is \",total)\n",
    "add(5)"
   ]
  },
  {
   "cell_type": "markdown",
   "id": "0a18eebb",
   "metadata": {},
   "source": [
    "What if the user needs to add more then two number, then we can use for loop to meet the conidtion\n"
   ]
  },
  {
   "cell_type": "code",
   "execution_count": 41,
   "id": "e7068926",
   "metadata": {},
   "outputs": [
    {
     "name": "stdout",
     "output_type": "stream",
     "text": [
      "890\n"
     ]
    }
   ],
   "source": [
    "def add(*a):\n",
    "    total=0\n",
    "    for i in a:\n",
    "        total=total+i\n",
    "    print(total)\n",
    "add(100,200,10,500,80)"
   ]
  },
  {
   "cell_type": "code",
   "execution_count": 46,
   "id": "c553468e",
   "metadata": {},
   "outputs": [
    {
     "name": "stdout",
     "output_type": "stream",
     "text": [
      "The Total is  -220\n"
     ]
    }
   ],
   "source": [
    "def sub(*a):\n",
    "    total=0\n",
    "    for i in a:\n",
    "        total=total-i\n",
    "    print(\"The Total is \",total)\n",
    "sub(50,50,100,20)"
   ]
  },
  {
   "cell_type": "code",
   "execution_count": 4,
   "id": "a2c778dd",
   "metadata": {},
   "outputs": [
    {
     "name": "stdout",
     "output_type": "stream",
     "text": [
      "Value in main         140708514113616 140708514113936\n",
      "1st value in function 140708514113616 140708514113936\n",
      "2nd value in function 140708514113360 140708514113392\n",
      "The sum is  5\n",
      "The sum of x & y is  30\n"
     ]
    }
   ],
   "source": [
    "def add(a,b):\n",
    "    print(\"1st value in function\",id(a), id(b))\n",
    "    a=2\n",
    "    b=3\n",
    "    print(\"2nd value in function\",id(a),id(b))\n",
    "    total=a+b\n",
    "    print(\"The sum is \",total)\n",
    "    \n",
    "x=10\n",
    "y=20\n",
    "print(\"Value in main        \",id(x),id(y))\n",
    "add(x,y)\n",
    "print(\"The sum of x & y is \",x+y)\n"
   ]
  },
  {
   "cell_type": "code",
   "execution_count": 5,
   "id": "59bf5a21",
   "metadata": {},
   "outputs": [
    {
     "name": "stdout",
     "output_type": "stream",
     "text": [
      "[0, 1, 0]\n"
     ]
    }
   ],
   "source": [
    "def add(lst):\n",
    "    lst[2]=0\n",
    "lst=[0,1,2]\n",
    "add(lst)\n",
    "print(lst)"
   ]
  },
  {
   "cell_type": "code",
   "execution_count": 14,
   "id": "11da16e7",
   "metadata": {},
   "outputs": [
    {
     "name": "stdout",
     "output_type": "stream",
     "text": [
      "The sum is 30\n"
     ]
    }
   ],
   "source": [
    "def add(a,b):\n",
    "    total=a+b\n",
    "    return(total)\n",
    "\n",
    "result=add(10,20)\n",
    "print(\"The sum is\",result)"
   ]
  },
  {
   "cell_type": "code",
   "execution_count": null,
   "id": "6414e315",
   "metadata": {},
   "outputs": [],
   "source": []
  }
 ],
 "metadata": {
  "kernelspec": {
   "display_name": "Python 3",
   "language": "python",
   "name": "python3"
  },
  "language_info": {
   "codemirror_mode": {
    "name": "ipython",
    "version": 3
   },
   "file_extension": ".py",
   "mimetype": "text/x-python",
   "name": "python",
   "nbconvert_exporter": "python",
   "pygments_lexer": "ipython3",
   "version": "3.8.8"
  }
 },
 "nbformat": 4,
 "nbformat_minor": 5
}

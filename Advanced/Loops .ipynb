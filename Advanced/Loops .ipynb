{
 "cells": [
  {
   "cell_type": "markdown",
   "id": "0272fb62",
   "metadata": {},
   "source": [
    "# For Loops in Python"
   ]
  },
  {
   "cell_type": "code",
   "execution_count": 1,
   "id": "4305fd1e",
   "metadata": {},
   "outputs": [
    {
     "name": "stdout",
     "output_type": "stream",
     "text": [
      "apple\n",
      "chickoo\n",
      "strawberry\n",
      "banana\n"
     ]
    }
   ],
   "source": [
    "fruits=['apple','chickoo','strawberry','banana']\n",
    "for i in fruits:\n",
    "    print(i)"
   ]
  },
  {
   "cell_type": "markdown",
   "id": "8a544f1f",
   "metadata": {},
   "source": [
    "##### With continue statement we can stop the current itteration of the loop and continue with next"
   ]
  },
  {
   "cell_type": "code",
   "execution_count": 11,
   "id": "dc07c16e",
   "metadata": {},
   "outputs": [
    {
     "name": "stdout",
     "output_type": "stream",
     "text": [
      "apple\n",
      "chickoo\n",
      "strawberry\n"
     ]
    }
   ],
   "source": [
    "fruits=['apple','chickoo','strawberry','banana']\n",
    "for i in fruits:\n",
    "    if i=='banana':\n",
    "        continue\n",
    "    print(i)"
   ]
  },
  {
   "cell_type": "code",
   "execution_count": 12,
   "id": "5ec57346",
   "metadata": {},
   "outputs": [
    {
     "name": "stdout",
     "output_type": "stream",
     "text": [
      "apple\n",
      "cherry\n"
     ]
    }
   ],
   "source": [
    "fruits = [\"apple\", \"banana\", \"cherry\"]\n",
    "for x in fruits:\n",
    "  if x == \"banana\":\n",
    "    continue\n",
    "  print(x)"
   ]
  },
  {
   "cell_type": "markdown",
   "id": "42836ab0",
   "metadata": {},
   "source": [
    "#### With the break statement we can stop the loop before it has looped through all the items:"
   ]
  },
  {
   "cell_type": "code",
   "execution_count": 13,
   "id": "d1d5985d",
   "metadata": {},
   "outputs": [
    {
     "name": "stdout",
     "output_type": "stream",
     "text": [
      "cherry\n",
      "apple\n"
     ]
    }
   ],
   "source": [
    "fruits = ['cherry','apple','banana']\n",
    "for i in fruits:\n",
    "    if i=='banana':\n",
    "        break\n",
    "    print(i)"
   ]
  },
  {
   "cell_type": "markdown",
   "id": "785d1366",
   "metadata": {},
   "source": [
    "# The range() Function"
   ]
  },
  {
   "cell_type": "code",
   "execution_count": 16,
   "id": "9ab1b5f5",
   "metadata": {},
   "outputs": [
    {
     "name": "stdout",
     "output_type": "stream",
     "text": [
      "0\n",
      "1\n",
      "2\n",
      "3\n",
      "4\n",
      "5\n"
     ]
    }
   ],
   "source": [
    "for x in range(6):\n",
    "    print(x)"
   ]
  },
  {
   "cell_type": "code",
   "execution_count": 18,
   "id": "d5e9b937",
   "metadata": {},
   "outputs": [
    {
     "name": "stdout",
     "output_type": "stream",
     "text": [
      "2\n",
      "3\n",
      "4\n",
      "5\n"
     ]
    }
   ],
   "source": [
    "for x in range(2,6):\n",
    "    print(x)"
   ]
  },
  {
   "cell_type": "code",
   "execution_count": 20,
   "id": "43ff9e1a",
   "metadata": {},
   "outputs": [
    {
     "name": "stdout",
     "output_type": "stream",
     "text": [
      "3\n",
      "6\n",
      "9\n",
      "12\n",
      "15\n",
      "18\n",
      "21\n",
      "24\n",
      "27\n"
     ]
    }
   ],
   "source": [
    "for x in range(3,30,3):\n",
    "    print(x)"
   ]
  },
  {
   "cell_type": "markdown",
   "id": "4270072f",
   "metadata": {},
   "source": [
    "##### 1. The range() function defaults to increment the sequence by 1, \n",
    "2.However it is possible to specify the increment value by adding a third parameter: range(3, 30, 3):"
   ]
  },
  {
   "cell_type": "code",
   "execution_count": 23,
   "id": "af344eba",
   "metadata": {},
   "outputs": [
    {
     "name": "stdout",
     "output_type": "stream",
     "text": [
      "0\n",
      "1\n",
      "2\n",
      "3\n",
      "4\n",
      "5\n",
      "Finally finished\n"
     ]
    }
   ],
   "source": [
    "for x in range (6):\n",
    "    print(x)\n",
    "else: \n",
    "    print(\"Finally finished!\")"
   ]
  },
  {
   "cell_type": "code",
   "execution_count": 25,
   "id": "653aca88",
   "metadata": {},
   "outputs": [
    {
     "name": "stdout",
     "output_type": "stream",
     "text": [
      "0\n",
      "1\n",
      "2\n"
     ]
    }
   ],
   "source": [
    "for x in range (6):\n",
    "    if x==3:\n",
    "        break\n",
    "    print(x)\n",
    "else:\n",
    "    print(\"finished\")"
   ]
  },
  {
   "cell_type": "markdown",
   "id": "59ec38cb",
   "metadata": {},
   "source": [
    "## Nested Loops"
   ]
  },
  {
   "cell_type": "code",
   "execution_count": 31,
   "id": "113b7ef2",
   "metadata": {},
   "outputs": [
    {
     "name": "stdout",
     "output_type": "stream",
     "text": [
      "red apple\n",
      "red mango\n",
      "red pineapple\n",
      "big apple\n",
      "big mango\n",
      "big pineapple\n",
      "tasty apple\n",
      "tasty mango\n",
      "tasty pineapple\n"
     ]
    }
   ],
   "source": [
    "adjective=['red','big','tasty']\n",
    "fruits=['apple','mango','pineapple']\n",
    "for x in adjective:\n",
    "    for y in fruits:\n",
    "        print(x,y)"
   ]
  },
  {
   "cell_type": "code",
   "execution_count": 32,
   "id": "0fca8a05",
   "metadata": {},
   "outputs": [
    {
     "name": "stdout",
     "output_type": "stream",
     "text": [
      "red apple\n",
      "red banana\n",
      "red cherry\n",
      "big apple\n",
      "big banana\n",
      "big cherry\n",
      "tasty apple\n",
      "tasty banana\n",
      "tasty cherry\n"
     ]
    }
   ],
   "source": [
    "adj = [\"red\", \"big\", \"tasty\"]\n",
    "fruits = [\"apple\", \"banana\", \"cherry\"]\n",
    "\n",
    "for x in adj:\n",
    "  for y in fruits:\n",
    "    print(x, y)"
   ]
  },
  {
   "cell_type": "code",
   "execution_count": 40,
   "id": "8f7b4017",
   "metadata": {},
   "outputs": [
    {
     "name": "stdout",
     "output_type": "stream",
     "text": [
      "Rabia Khan is  Resilient\n",
      "Rabia Khan is  Focused\n",
      "Rabia Khan is  Dedicated\n",
      "Rabia Khan is  Consistent\n"
     ]
    }
   ],
   "source": [
    "adj=['Resilient','Focused','Dedicated','Consistent']\n",
    "name=['Rabia Khan is ']\n",
    "for x in adj:\n",
    "    for y in name:\n",
    "        print(y,x)"
   ]
  },
  {
   "cell_type": "code",
   "execution_count": 41,
   "id": "daa3b91d",
   "metadata": {},
   "outputs": [
    {
     "name": "stdout",
     "output_type": "stream",
     "text": [
      "Emil Refsnes\n"
     ]
    }
   ],
   "source": [
    "def my_function(fname, lname):\n",
    "  print(fname + \" \" + lname)\n",
    "\n",
    "my_function(\"Emil\", \"Refsnes\")\n"
   ]
  },
  {
   "cell_type": "code",
   "execution_count": 39,
   "id": "0c855542",
   "metadata": {},
   "outputs": [
    {
     "name": "stdout",
     "output_type": "stream",
     "text": [
      "Rabia Khan\n",
      "Thomas Edison\n"
     ]
    }
   ],
   "source": [
    "def name_function(fname, lname):\n",
    "    print(fname + \" \" + lname)\n",
    "name_function('Rabia','Khan')\n",
    "name_function('Thomas','Edison')"
   ]
  },
  {
   "cell_type": "code",
   "execution_count": 63,
   "id": "c7b24aa6",
   "metadata": {
    "scrolled": true
   },
   "outputs": [
    {
     "name": "stdout",
     "output_type": "stream",
     "text": [
      "The square of  1 is 1\n",
      "The square of  2 is 4\n",
      "The square of  3 is 9\n",
      "The square of  4 is 16\n",
      "The square of  5 is 25\n",
      "The square of  6 is 36\n"
     ]
    }
   ],
   "source": [
    "num=[1,2,3,4,5,6]\n",
    "for i in num:\n",
    "    square= i**2\n",
    "    print(\"The square of \",i, \"is\",square)"
   ]
  },
  {
   "cell_type": "code",
   "execution_count": 62,
   "id": "e498f6b9",
   "metadata": {},
   "outputs": [
    {
     "name": "stdout",
     "output_type": "stream",
     "text": [
      "30.0\n"
     ]
    }
   ],
   "source": [
    "num=[10,20,30,40,50]\n",
    "sum=0\n",
    "for i in num:\n",
    "    sum=sum+i\n",
    "num_length=len(num)\n",
    "av=sum/num_length\n",
    "print(av)"
   ]
  },
  {
   "cell_type": "markdown",
   "id": "6f70db3a",
   "metadata": {},
   "source": [
    "Calculate the average of list of numbers"
   ]
  },
  {
   "cell_type": "code",
   "execution_count": 70,
   "id": "84a144ea",
   "metadata": {},
   "outputs": [
    {
     "name": "stdout",
     "output_type": "stream",
     "text": [
      "3.0\n"
     ]
    }
   ],
   "source": [
    "num=[1,2,3,4,5]\n",
    "sum=0\n",
    "for i in num:\n",
    "    sum=sum+i\n",
    "num_len=len(num)\n",
    "average=sum/num_length\n",
    "print(average)"
   ]
  },
  {
   "cell_type": "code",
   "execution_count": 69,
   "id": "73ef02e1",
   "metadata": {},
   "outputs": [
    {
     "name": "stdout",
     "output_type": "stream",
     "text": [
      "Even Number :  0\n",
      "Odd Number  :  1\n",
      "Even Number :  2\n",
      "Odd Number  :  3\n",
      "Even Number :  4\n",
      "Odd Number  :  5\n",
      "Even Number :  6\n",
      "Odd Number  :  7\n",
      "Even Number :  8\n",
      "Odd Number  :  9\n",
      "Even Number :  10\n"
     ]
    }
   ],
   "source": [
    "for i in range(0,11):\n",
    "    if i%2==0:\n",
    "        print(\"Even Number : \",i)\n",
    "    else:  \n",
    "        print(\"Odd Number  : \",i)"
   ]
  },
  {
   "cell_type": "markdown",
   "id": "d6de57e2",
   "metadata": {},
   "source": [
    "break the loop if number a number is greater than 15"
   ]
  },
  {
   "cell_type": "code",
   "execution_count": 83,
   "id": "f0976a42",
   "metadata": {},
   "outputs": [
    {
     "name": "stdout",
     "output_type": "stream",
     "text": [
      "1\n",
      "4\n",
      "7\n",
      "8\n",
      "15\n"
     ]
    }
   ],
   "source": [
    "num = [1, 4, 7, 8, 15, 20, 35, 45, 55]\n",
    "for i in num:\n",
    "    if i>15:\n",
    "        break\n",
    "    else: \n",
    "        print(i)"
   ]
  },
  {
   "cell_type": "code",
   "execution_count": null,
   "id": "37fc7b96",
   "metadata": {},
   "outputs": [],
   "source": [
    "numbers = [1, 4, 7, 8, 15, 20, 35, 45, 55]\n",
    "for i in numbers:\n",
    "    if i > 15:\n",
    "        # break the loop\n",
    "        break\n",
    "    else:\n",
    "        print(i)"
   ]
  },
  {
   "cell_type": "markdown",
   "id": "5bae1af2",
   "metadata": {},
   "source": [
    "### Making a Pattern by taking user input"
   ]
  },
  {
   "cell_type": "code",
   "execution_count": 5,
   "id": "b96d7154",
   "metadata": {},
   "outputs": [
    {
     "name": "stdout",
     "output_type": "stream",
     "text": [
      "Enter a number rows : 5\n",
      "1 \n",
      "1 2 \n",
      "1 2 3 \n",
      "1 2 3 4 \n",
      "1 2 3 4 5 \n"
     ]
    }
   ],
   "source": [
    "n=int(input(\"Enter a number rows : \"))\n",
    "for i in range(1,n+1):\n",
    "    for j in range(1,i+1):\n",
    "        print(j, end=\" \")\n",
    "    print()"
   ]
  },
  {
   "cell_type": "code",
   "execution_count": 4,
   "id": "106d9584",
   "metadata": {},
   "outputs": [
    {
     "ename": "SyntaxError",
     "evalue": "unexpected EOF while parsing (<ipython-input-4-ef968de0d25d>, line 5)",
     "output_type": "error",
     "traceback": [
      "\u001b[1;36m  File \u001b[1;32m\"<ipython-input-4-ef968de0d25d>\"\u001b[1;36m, line \u001b[1;32m5\u001b[0m\n\u001b[1;33m    \u001b[0m\n\u001b[1;37m    ^\u001b[0m\n\u001b[1;31mSyntaxError\u001b[0m\u001b[1;31m:\u001b[0m unexpected EOF while parsing\n"
     ]
    }
   ],
   "source": [
    "r=int(input(\"Enter The Number Of Rows : \"))\n",
    "c=int(input(\"Enter The Number Of Columns : \"))\n",
    "x=[]\n",
    "for i in r:\n",
    "    "
   ]
  },
  {
   "cell_type": "markdown",
   "id": "24dbae39",
   "metadata": {},
   "source": [
    "Here what happening is, we are creating an empty array first, and then we are inserting the loop,\n",
    "here r is the number of element in x, ie. The number of list within our pareent list x\n",
    "and c is the number element in the list in x  "
   ]
  },
  {
   "cell_type": "markdown",
   "id": "16a5b770",
   "metadata": {},
   "source": [
    "# While Loop in Python"
   ]
  },
  {
   "cell_type": "code",
   "execution_count": 1,
   "id": "b06c2443",
   "metadata": {},
   "outputs": [
    {
     "name": "stdout",
     "output_type": "stream",
     "text": [
      "Simplilearn\n",
      "Simplilearn\n",
      "Simplilearn\n",
      "Simplilearn\n",
      "Simplilearn\n",
      "Simplilearn\n",
      "Simplilearn\n",
      "Simplilearn\n",
      "Simplilearn\n",
      "Simplilearn\n"
     ]
    }
   ],
   "source": [
    "i=1\n",
    "while(i<=10):\n",
    "    print(\"Simplilearn\")\n",
    "    i+=1"
   ]
  },
  {
   "cell_type": "code",
   "execution_count": 2,
   "id": "82046735",
   "metadata": {},
   "outputs": [
    {
     "name": "stdout",
     "output_type": "stream",
     "text": [
      "55\n"
     ]
    }
   ],
   "source": [
    "i=1\n",
    "sum=0\n",
    "while(i<=10):\n",
    "    sum=sum+i\n",
    "    i+=1\n",
    "print(sum)"
   ]
  },
  {
   "cell_type": "code",
   "execution_count": 3,
   "id": "58c38e32",
   "metadata": {},
   "outputs": [
    {
     "name": "stdout",
     "output_type": "stream",
     "text": [
      "30\n"
     ]
    }
   ],
   "source": [
    "#Even Numbers\n",
    "\n",
    "i=1\n",
    "sum=0\n",
    "while(i<=10):\n",
    "    if i%2==0:\n",
    "        sum=sum+i\n",
    "    i+=1\n",
    "print(sum)"
   ]
  },
  {
   "cell_type": "code",
   "execution_count": 4,
   "id": "58759eda",
   "metadata": {},
   "outputs": [
    {
     "ename": "NameError",
     "evalue": "name 'i' is not defined",
     "output_type": "error",
     "traceback": [
      "\u001b[1;31m---------------------------------------------------------------------------\u001b[0m",
      "\u001b[1;31mNameError\u001b[0m                                 Traceback (most recent call last)",
      "\u001b[1;32m<ipython-input-4-043af9eedb3c>\u001b[0m in \u001b[0;36m<module>\u001b[1;34m\u001b[0m\n\u001b[0;32m      1\u001b[0m \u001b[0mx\u001b[0m \u001b[1;33m=\u001b[0m \u001b[1;34m\"pqrstu\"\u001b[0m\u001b[1;33m\u001b[0m\u001b[1;33m\u001b[0m\u001b[0m\n\u001b[1;32m----> 2\u001b[1;33m \u001b[1;32mwhile\u001b[0m \u001b[0mi\u001b[0m \u001b[1;32min\u001b[0m \u001b[0mx\u001b[0m\u001b[1;33m:\u001b[0m\u001b[1;33m\u001b[0m\u001b[1;33m\u001b[0m\u001b[0m\n\u001b[0m\u001b[0;32m      3\u001b[0m     \u001b[0mprint\u001b[0m\u001b[1;33m(\u001b[0m\u001b[0mi\u001b[0m\u001b[1;33m,\u001b[0m \u001b[0mend\u001b[0m\u001b[1;33m=\u001b[0m\u001b[1;34m\" \"\u001b[0m\u001b[1;33m)\u001b[0m\u001b[1;33m\u001b[0m\u001b[1;33m\u001b[0m\u001b[0m\n\u001b[0;32m      4\u001b[0m     \u001b[0mi\u001b[0m\u001b[1;33m+=\u001b[0m\u001b[1;36m1\u001b[0m\u001b[1;33m\u001b[0m\u001b[1;33m\u001b[0m\u001b[0m\n\u001b[0;32m      5\u001b[0m \u001b[1;33m\u001b[0m\u001b[0m\n",
      "\u001b[1;31mNameError\u001b[0m: name 'i' is not defined"
     ]
    }
   ],
   "source": [
    "x = \"pqrstu\"\n",
    "while i in x:\n",
    "    print(i, end=\" \")\n",
    "    i+=1\n",
    "    "
   ]
  },
  {
   "cell_type": "code",
   "execution_count": null,
   "id": "42351676",
   "metadata": {},
   "outputs": [],
   "source": []
  }
 ],
 "metadata": {
  "kernelspec": {
   "display_name": "Python 3",
   "language": "python",
   "name": "python3"
  },
  "language_info": {
   "codemirror_mode": {
    "name": "ipython",
    "version": 3
   },
   "file_extension": ".py",
   "mimetype": "text/x-python",
   "name": "python",
   "nbconvert_exporter": "python",
   "pygments_lexer": "ipython3",
   "version": "3.8.8"
  }
 },
 "nbformat": 4,
 "nbformat_minor": 5
}

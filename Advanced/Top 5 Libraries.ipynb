{
 "cells": [
  {
   "cell_type": "markdown",
   "id": "8828a885",
   "metadata": {},
   "source": [
    "## 1. Tensor Flow Library :"
   ]
  },
  {
   "cell_type": "code",
   "execution_count": null,
   "id": "957d395b",
   "metadata": {},
   "outputs": [],
   "source": [
    "# 1) Tensor Flow Library :\n",
    "#           For high performance numerical computation\n",
    "#           Used across many scientific domains\n",
    "#           Data in tensorflow are represented as tensors, which are multidimensional Arrays\n",
    "# Features:\n",
    "#           Used in deep learning models and neural networks\n",
    "#           Better than Torch and thiano due to better visualizations\n",
    "#           In neural machine translation, it reduces error by 50-60%\n",
    "#           Parallel computing to execute complex models aka Pipelining\n",
    "#           Seamless performance\n",
    "#\n",
    "# Applications:\n",
    "#           Speech-Image recognition\n",
    "#           Text based applications\n",
    "#           Time Series\n",
    "#           Video Detection"
   ]
  },
  {
   "cell_type": "markdown",
   "id": "97ddb310",
   "metadata": {},
   "source": [
    "## 2. NumPy Library"
   ]
  },
  {
   "cell_type": "code",
   "execution_count": 3,
   "id": "36d732ba",
   "metadata": {},
   "outputs": [],
   "source": [
    "# 2) NumPy Library :\n",
    "#           General Purpose Array-Processing package\n",
    "#           NumPy is the fundamental package for numerical computation with python, it contains a powerful\n",
    "#               N-Dimensional Array object\n",
    "#           Provides fast precompiled functions for numerical routines\n",
    "#           Array oriented computing for better performance\n",
    "#           Supports object-oriented approach\n",
    "#           Compact and faster Computations\n",
    "# Features:\n",
    "#           Provides fast precompiled functions for numerical routines\n",
    "#           Array oriented  computing for Better efficiency\n",
    "#           Supports Object-oriented approach\n",
    "#           Compact and faster computations with vectorization\n",
    "\n",
    "# Applications:\n",
    "#           Used extensively in data analysis\n",
    "#           Powerful in creation of n-dimensional array\n",
    "#           Useful in machine learning models\n",
    "#           Forms the base of the other libraries such as SciPy,Scikit-Learn\n",
    "#           Machine learning models have the base of NumPy\n",
    "#           Can act as a replacement for Matlab whn used with SciPy,Matpotlib\n",
    "#"
   ]
  },
  {
   "cell_type": "code",
   "execution_count": 1,
   "id": "19f211be",
   "metadata": {},
   "outputs": [],
   "source": [
    "import numpy as np"
   ]
  },
  {
   "cell_type": "code",
   "execution_count": 2,
   "id": "2ffc8710",
   "metadata": {},
   "outputs": [],
   "source": [
    "a=np.array([1,2,3])"
   ]
  },
  {
   "cell_type": "code",
   "execution_count": 3,
   "id": "249905c8",
   "metadata": {},
   "outputs": [
    {
     "name": "stdout",
     "output_type": "stream",
     "text": [
      "[1 2 3]\n"
     ]
    }
   ],
   "source": [
    "print(a)"
   ]
  },
  {
   "cell_type": "code",
   "execution_count": 4,
   "id": "2ce56f51",
   "metadata": {},
   "outputs": [
    {
     "data": {
      "text/plain": [
       "numpy.ndarray"
      ]
     },
     "execution_count": 4,
     "metadata": {},
     "output_type": "execute_result"
    }
   ],
   "source": [
    "type(a)"
   ]
  },
  {
   "cell_type": "code",
   "execution_count": 5,
   "id": "9b6f0e91",
   "metadata": {},
   "outputs": [
    {
     "name": "stdout",
     "output_type": "stream",
     "text": [
      "(3,)\n"
     ]
    }
   ],
   "source": [
    "print(a.shape)"
   ]
  },
  {
   "cell_type": "code",
   "execution_count": 12,
   "id": "c0b1c697",
   "metadata": {},
   "outputs": [
    {
     "data": {
      "text/plain": [
       "array([[ 0,  1,  2,  3],\n",
       "       [ 4,  5,  6,  7],\n",
       "       [ 8,  9, 10, 11]])"
      ]
     },
     "execution_count": 12,
     "metadata": {},
     "output_type": "execute_result"
    }
   ],
   "source": [
    "b=np.arange(12).reshape(3,4)\n",
    "b"
   ]
  },
  {
   "cell_type": "code",
   "execution_count": 13,
   "id": "1990eb22",
   "metadata": {},
   "outputs": [
    {
     "data": {
      "text/plain": [
       "array([[ 0,  1,  2,  3],\n",
       "       [ 4,  5,  6,  7],\n",
       "       [ 8,  9, 10, 11]])"
      ]
     },
     "execution_count": 13,
     "metadata": {},
     "output_type": "execute_result"
    }
   ],
   "source": [
    "b.reshape(3,4)"
   ]
  },
  {
   "cell_type": "code",
   "execution_count": 9,
   "id": "266d2a72",
   "metadata": {},
   "outputs": [],
   "source": [
    "b=np.array(12)"
   ]
  },
  {
   "cell_type": "code",
   "execution_count": 10,
   "id": "6d522b40",
   "metadata": {},
   "outputs": [
    {
     "data": {
      "text/plain": [
       "array(12)"
      ]
     },
     "execution_count": 10,
     "metadata": {},
     "output_type": "execute_result"
    }
   ],
   "source": [
    "b"
   ]
  },
  {
   "cell_type": "markdown",
   "id": "2c27ac5a",
   "metadata": {},
   "source": [
    "# 3. SCIPY"
   ]
  },
  {
   "cell_type": "markdown",
   "id": "0eb0f9e2",
   "metadata": {},
   "source": [
    "### It Stands For Scientific Python"
   ]
  },
  {
   "cell_type": "markdown",
   "id": "7cac1aa1",
   "metadata": {},
   "source": [
    "### 1. It has a collection of mathematical algorithm and scientific function built on numpy extension pf python\n",
    "### 2. It has High level commands and classes for manipulation and visualization of data\n",
    "### 3. It includes function for computing, integrals, numerical solving etc."
   ]
  },
  {
   "cell_type": "code",
   "execution_count": 2,
   "id": "1c9464fe",
   "metadata": {},
   "outputs": [],
   "source": [
    "# 3) SciPy Library :\n",
    "#           Used extensively in data analysis science for high level computations\n",
    "# Features:\n",
    "#           A large collection of algorithms and scientific functions built on NumPy\n",
    "#           Has high level commands and classes for data manipulations and visualizations\n",
    "#           Multi dimensional image processing with SciPy.ndimage\n",
    "#           Includes functions for computing integrals numerically, solving differential equations,optimization, etc\n",
    "#\n",
    "# Applications:\n",
    "#           Multi dimensional image operations\n",
    "#           Solving differential equations\n",
    "#           Optimization Algorithms\n",
    "#           Linear Algebra"
   ]
  },
  {
   "cell_type": "code",
   "execution_count": 15,
   "id": "f20aa410",
   "metadata": {},
   "outputs": [],
   "source": [
    "from scipy import constants"
   ]
  },
  {
   "cell_type": "code",
   "execution_count": 17,
   "id": "6561f3d4",
   "metadata": {},
   "outputs": [
    {
     "name": "stdout",
     "output_type": "stream",
     "text": [
      "299792458.0\n",
      "6.62607015e-34\n",
      "6.02214076e+23\n"
     ]
    }
   ],
   "source": [
    "print (constants.c) #speed of light\n",
    "print (constants.h) #plank's constant\n",
    "print (constants.N_A) #Avogadra's number"
   ]
  },
  {
   "cell_type": "markdown",
   "id": "6e573f8b",
   "metadata": {},
   "source": [
    "## 4. Pandas"
   ]
  },
  {
   "cell_type": "markdown",
   "id": "223f41d1",
   "metadata": {},
   "source": [
    "### PANDA stands for Python Data Analysis Library"
   ]
  },
  {
   "cell_type": "markdown",
   "id": "e39d3d70",
   "metadata": {},
   "source": [
    "#### It is used for Data analysis & cleaning"
   ]
  },
  {
   "cell_type": "markdown",
   "id": "702da7dc",
   "metadata": {},
   "source": [
    "##### It provides fast , flexible and  expressive data structures designed to work with structured data easily and intuitively"
   ]
  },
  {
   "cell_type": "markdown",
   "id": "0fa3faf6",
   "metadata": {},
   "source": [
    "##### Eloquent Syntax & rich Functionality and high level Data Structures"
   ]
  },
  {
   "cell_type": "code",
   "execution_count": 5,
   "id": "3085fbc1",
   "metadata": {},
   "outputs": [],
   "source": [
    "# 4) Pandas (MOST WIDELY USED):\n",
    "#           PANDAS Stand for python data analysis\n",
    "#           Used for data analysis and cleaning\n",
    "# Features:\n",
    "#           Eloquent syntax and Rich functionalities\n",
    "#           'Apply()' enables you to run a function across a series of data\n",
    "#           High Level Abstraction\n",
    "#           Contains high-level data structures and manipulation tools\n",
    "# Application:\n",
    "#           General Data wrangling\n",
    "#           Useful in ETL jobs in data storage and transformation\n",
    "#           Used in varieties of Academic and commercial domains including statistics etc\n",
    "#           Useful in time series specific functionality"
   ]
  },
  {
   "cell_type": "code",
   "execution_count": 20,
   "id": "f3c92ff1",
   "metadata": {},
   "outputs": [],
   "source": [
    "import pandas as pd"
   ]
  },
  {
   "cell_type": "code",
   "execution_count": 22,
   "id": "cc5a2c27",
   "metadata": {},
   "outputs": [
    {
     "data": {
      "text/html": [
       "<div>\n",
       "<style scoped>\n",
       "    .dataframe tbody tr th:only-of-type {\n",
       "        vertical-align: middle;\n",
       "    }\n",
       "\n",
       "    .dataframe tbody tr th {\n",
       "        vertical-align: top;\n",
       "    }\n",
       "\n",
       "    .dataframe thead th {\n",
       "        text-align: right;\n",
       "    }\n",
       "</style>\n",
       "<table border=\"1\" class=\"dataframe\">\n",
       "  <thead>\n",
       "    <tr style=\"text-align: right;\">\n",
       "      <th></th>\n",
       "      <th>A</th>\n",
       "      <th>B</th>\n",
       "      <th>C</th>\n",
       "      <th>D</th>\n",
       "    </tr>\n",
       "  </thead>\n",
       "  <tbody>\n",
       "    <tr>\n",
       "      <th>0</th>\n",
       "      <td>-0.515712</td>\n",
       "      <td>-0.926848</td>\n",
       "      <td>0.208694</td>\n",
       "      <td>0.128763</td>\n",
       "    </tr>\n",
       "    <tr>\n",
       "      <th>1</th>\n",
       "      <td>0.744916</td>\n",
       "      <td>-0.815245</td>\n",
       "      <td>-1.387668</td>\n",
       "      <td>1.655053</td>\n",
       "    </tr>\n",
       "    <tr>\n",
       "      <th>2</th>\n",
       "      <td>-1.805658</td>\n",
       "      <td>0.215964</td>\n",
       "      <td>-0.309207</td>\n",
       "      <td>1.109305</td>\n",
       "    </tr>\n",
       "    <tr>\n",
       "      <th>3</th>\n",
       "      <td>1.279719</td>\n",
       "      <td>-0.569346</td>\n",
       "      <td>-0.100155</td>\n",
       "      <td>-0.422900</td>\n",
       "    </tr>\n",
       "    <tr>\n",
       "      <th>4</th>\n",
       "      <td>-0.645657</td>\n",
       "      <td>2.677277</td>\n",
       "      <td>0.794225</td>\n",
       "      <td>-1.816657</td>\n",
       "    </tr>\n",
       "    <tr>\n",
       "      <th>5</th>\n",
       "      <td>-1.167258</td>\n",
       "      <td>-0.971496</td>\n",
       "      <td>0.554437</td>\n",
       "      <td>2.452769</td>\n",
       "    </tr>\n",
       "  </tbody>\n",
       "</table>\n",
       "</div>"
      ],
      "text/plain": [
       "          A         B         C         D\n",
       "0 -0.515712 -0.926848  0.208694  0.128763\n",
       "1  0.744916 -0.815245 -1.387668  1.655053\n",
       "2 -1.805658  0.215964 -0.309207  1.109305\n",
       "3  1.279719 -0.569346 -0.100155 -0.422900\n",
       "4 -0.645657  2.677277  0.794225 -1.816657\n",
       "5 -1.167258 -0.971496  0.554437  2.452769"
      ]
     },
     "execution_count": 22,
     "metadata": {},
     "output_type": "execute_result"
    }
   ],
   "source": [
    "#Creating data frames\n",
    "\n",
    "#Creating our own data and putting it in to a data frames\n",
    "\n",
    "df= pd.DataFrame(np.random.randn(6,4),index=list(range(6)),columns=list(\"ABCD\"))\n",
    "df"
   ]
  },
  {
   "cell_type": "code",
   "execution_count": 25,
   "id": "aba80ae7",
   "metadata": {},
   "outputs": [
    {
     "data": {
      "text/html": [
       "<div>\n",
       "<style scoped>\n",
       "    .dataframe tbody tr th:only-of-type {\n",
       "        vertical-align: middle;\n",
       "    }\n",
       "\n",
       "    .dataframe tbody tr th {\n",
       "        vertical-align: top;\n",
       "    }\n",
       "\n",
       "    .dataframe thead th {\n",
       "        text-align: right;\n",
       "    }\n",
       "</style>\n",
       "<table border=\"1\" class=\"dataframe\">\n",
       "  <thead>\n",
       "    <tr style=\"text-align: right;\">\n",
       "      <th></th>\n",
       "      <th>A</th>\n",
       "      <th>B</th>\n",
       "      <th>C</th>\n",
       "      <th>D</th>\n",
       "    </tr>\n",
       "  </thead>\n",
       "  <tbody>\n",
       "    <tr>\n",
       "      <th>count</th>\n",
       "      <td>6.000000</td>\n",
       "      <td>6.000000</td>\n",
       "      <td>6.000000</td>\n",
       "      <td>6.000000</td>\n",
       "    </tr>\n",
       "    <tr>\n",
       "      <th>mean</th>\n",
       "      <td>-0.351608</td>\n",
       "      <td>-0.064949</td>\n",
       "      <td>-0.039946</td>\n",
       "      <td>0.517722</td>\n",
       "    </tr>\n",
       "    <tr>\n",
       "      <th>std</th>\n",
       "      <td>1.162457</td>\n",
       "      <td>1.412854</td>\n",
       "      <td>0.775040</td>\n",
       "      <td>1.540992</td>\n",
       "    </tr>\n",
       "    <tr>\n",
       "      <th>min</th>\n",
       "      <td>-1.805658</td>\n",
       "      <td>-0.971496</td>\n",
       "      <td>-1.387668</td>\n",
       "      <td>-1.816657</td>\n",
       "    </tr>\n",
       "    <tr>\n",
       "      <th>25%</th>\n",
       "      <td>-1.036858</td>\n",
       "      <td>-0.898948</td>\n",
       "      <td>-0.256944</td>\n",
       "      <td>-0.284984</td>\n",
       "    </tr>\n",
       "    <tr>\n",
       "      <th>50%</th>\n",
       "      <td>-0.580685</td>\n",
       "      <td>-0.692296</td>\n",
       "      <td>0.054270</td>\n",
       "      <td>0.619034</td>\n",
       "    </tr>\n",
       "    <tr>\n",
       "      <th>75%</th>\n",
       "      <td>0.429759</td>\n",
       "      <td>0.019637</td>\n",
       "      <td>0.468001</td>\n",
       "      <td>1.518616</td>\n",
       "    </tr>\n",
       "    <tr>\n",
       "      <th>max</th>\n",
       "      <td>1.279719</td>\n",
       "      <td>2.677277</td>\n",
       "      <td>0.794225</td>\n",
       "      <td>2.452769</td>\n",
       "    </tr>\n",
       "  </tbody>\n",
       "</table>\n",
       "</div>"
      ],
      "text/plain": [
       "              A         B         C         D\n",
       "count  6.000000  6.000000  6.000000  6.000000\n",
       "mean  -0.351608 -0.064949 -0.039946  0.517722\n",
       "std    1.162457  1.412854  0.775040  1.540992\n",
       "min   -1.805658 -0.971496 -1.387668 -1.816657\n",
       "25%   -1.036858 -0.898948 -0.256944 -0.284984\n",
       "50%   -0.580685 -0.692296  0.054270  0.619034\n",
       "75%    0.429759  0.019637  0.468001  1.518616\n",
       "max    1.279719  2.677277  0.794225  2.452769"
      ]
     },
     "execution_count": 25,
     "metadata": {},
     "output_type": "execute_result"
    }
   ],
   "source": [
    "df.describe()"
   ]
  },
  {
   "cell_type": "markdown",
   "id": "99747cbe",
   "metadata": {},
   "source": [
    "# 5. MATPLOTLIB"
   ]
  },
  {
   "cell_type": "markdown",
   "id": "d0aea1be",
   "metadata": {},
   "source": [
    "### It is a plotting libraray for Python \n",
    "### it is used for Data Visualization"
   ]
  },
  {
   "cell_type": "code",
   "execution_count": 6,
   "id": "d7d87bf9",
   "metadata": {},
   "outputs": [],
   "source": [
    "# 5) MatPlotLib:\n",
    "#           Plotting library for python\n",
    "#           Used for data visualization\n",
    "#           It provides an object-oriented API for embedding plots into applications\n",
    "# Features:\n",
    "#           As usable as matlab with an advantage of free and open source\n",
    "#           Supports dozens of backend and output types\n",
    "#           Pandas can itself be used a wrappers around MATPLOTLIB's API\n",
    "#           Small memory consumption and very good runtime behaviour\n",
    "# Applications:\n",
    "#           Correlation of analysis of variables\n",
    "#           Visualize 95% confidence intervals of the models\n",
    "#           Outlier Detection\n",
    "#           Visualizing the distributions to gain instant insights"
   ]
  },
  {
   "cell_type": "code",
   "execution_count": null,
   "id": "df4de434",
   "metadata": {},
   "outputs": [],
   "source": []
  }
 ],
 "metadata": {
  "kernelspec": {
   "display_name": "Python 3",
   "language": "python",
   "name": "python3"
  },
  "language_info": {
   "codemirror_mode": {
    "name": "ipython",
    "version": 3
   },
   "file_extension": ".py",
   "mimetype": "text/x-python",
   "name": "python",
   "nbconvert_exporter": "python",
   "pygments_lexer": "ipython3",
   "version": "3.8.8"
  }
 },
 "nbformat": 4,
 "nbformat_minor": 5
}

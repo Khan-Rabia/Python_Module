{
 "cells": [
  {
   "cell_type": "markdown",
   "id": "64191dfc",
   "metadata": {},
   "source": [
    "#### calculate the multiplication and sum of two numbers:"
   ]
  },
  {
   "cell_type": "code",
   "execution_count": 1,
   "id": "7c03d35a",
   "metadata": {},
   "outputs": [
    {
     "name": "stdout",
     "output_type": "stream",
     "text": [
      "The Given Number is 5,2 \n",
      "The Multiplication of the given two number is  10\n",
      "The sum of the given two number is  7\n"
     ]
    }
   ],
   "source": [
    "x=5\n",
    "y=2\n",
    "print(\"The Given Number is 5,2 \")\n",
    "print(\"The Multiplication of the given two number is \",x*y)\n",
    "print(\"The sum of the given two number is \",x+y)"
   ]
  },
  {
   "cell_type": "markdown",
   "id": "15d117d1",
   "metadata": {},
   "source": [
    "#### Calculate the multiplication and sum of two numbers..............................Given two integer numbers return their product only if the product is greater than 1000, else return their sum."
   ]
  },
  {
   "cell_type": "code",
   "execution_count": 6,
   "id": "88285704",
   "metadata": {},
   "outputs": [
    {
     "name": "stdout",
     "output_type": "stream",
     "text": [
      "Enter the first number : 50\n",
      "Enter the second number : 10\n",
      "The addition of the given two numbers are  60\n"
     ]
    }
   ],
   "source": [
    "n1=int(input(\"Enter the first number : \"))\n",
    "n2=int(input(\"Enter the second number : \"))\n",
    "\n",
    "product=n1*n2\n",
    "if product>=1000:\n",
    "    print(\"The Multiplication of the given two numbers are \",product)\n",
    "else:\n",
    "    print(\"The addition of the given two numbers are \",n1+n2)\n"
   ]
  },
  {
   "cell_type": "code",
   "execution_count": 7,
   "id": "fdbfb7b3",
   "metadata": {},
   "outputs": [
    {
     "name": "stdout",
     "output_type": "stream",
     "text": [
      "50\n",
      "The result is  None\n",
      "1600\n",
      "The result is  None\n"
     ]
    }
   ],
   "source": [
    "def multiplication_or_sum(num1,num2):\n",
    "    product=num1*num2\n",
    "    if product>=1000:\n",
    "        print(product)\n",
    "    else:\n",
    "        print(num1 + num2)\n",
    "\n",
    "#1st condition\n",
    "    \n",
    "result=multiplication_or_sum(20,30)\n",
    "print(\"The result is \",result)\n",
    "\n",
    "#2nd Condition\n",
    "\n",
    "result=multiplication_or_sum(40,40)\n",
    "print(\"The result is \", result)"
   ]
  },
  {
   "cell_type": "markdown",
   "id": "c40285ca",
   "metadata": {},
   "source": [
    "Write a program to iterate the first 10 numbers and in each iteration, print the sum of the current and previous number.\n",
    "\n",
    "Print the sum of the current number and the previous number"
   ]
  },
  {
   "cell_type": "code",
   "execution_count": 4,
   "id": "84e65772",
   "metadata": {},
   "outputs": [
    {
     "name": "stdout",
     "output_type": "stream",
     "text": [
      "The Natural number is  1 The sum is  1\n",
      "The Natural number is  2 The sum is  3\n",
      "The Natural number is  3 The sum is  5\n",
      "The Natural number is  4 The sum is  7\n",
      "The Natural number is  5 The sum is  9\n",
      "The Natural number is  6 The sum is  11\n",
      "The Natural number is  7 The sum is  13\n",
      "The Natural number is  8 The sum is  15\n",
      "The Natural number is  9 The sum is  17\n",
      "The Natural number is  10 The sum is  19\n"
     ]
    }
   ],
   "source": [
    "n=1\n",
    "sum=0\n",
    "for i in range (1,11):  \n",
    "    sum=i+i-1\n",
    "    \n",
    "    print(\"The Natural number is \",i,\"The sum is \",sum)"
   ]
  },
  {
   "cell_type": "markdown",
   "id": "7403a8c4",
   "metadata": {},
   "source": [
    "Print characters from a string that are present at an even index number\n",
    "Write a program to accept a string from the user and display characters that are present at an even index number.\n",
    "\n",
    "For example, str = \"pynative\" so you should display ‘p’, ‘n’, ‘t’, ‘v’"
   ]
  },
  {
   "cell_type": "code",
   "execution_count": 9,
   "id": "512ef4ff",
   "metadata": {},
   "outputs": [
    {
     "name": "stdout",
     "output_type": "stream",
     "text": [
      "Enter a word : simplilearn\n",
      "The Original string is  simplilearn\n",
      "The length of a given word is  11\n",
      "---------------------------------\n",
      "printing only even index chars\n",
      "index[ 0 ] s\n",
      "index[ 2 ] m\n",
      "index[ 4 ] l\n",
      "index[ 6 ] l\n",
      "index[ 8 ] a\n"
     ]
    }
   ],
   "source": [
    "word=str(input(\"Enter a word : \"))\n",
    "print(\"The Original string is \",word)\n",
    "size=len(word)\n",
    "print(\"The length of a given word is \",size)\n",
    "print(\"---------------------------------\")\n",
    "print(\"printing only even index chars\")\n",
    "for i in range(0, size - 1, 2):\n",
    "    print(\"index[\", i, \"]\", word[i])\n"
   ]
  },
  {
   "cell_type": "code",
   "execution_count": 8,
   "id": "d1220a47",
   "metadata": {},
   "outputs": [
    {
     "name": "stdout",
     "output_type": "stream",
     "text": [
      "Enter a Word : simplilearn\n",
      "The original string is  simplilearn\n",
      "s\n",
      "m\n",
      "l\n",
      "l\n",
      "a\n",
      "n\n"
     ]
    }
   ],
   "source": [
    "word=str(input(\"Enter a Word : \"))\n",
    "print(\"The original string is \", word)\n",
    "x=list(word)\n",
    "for i in x[::2]:\n",
    "    print(i)\n"
   ]
  },
  {
   "cell_type": "code",
   "execution_count": null,
   "id": "79a4055d",
   "metadata": {},
   "outputs": [],
   "source": []
  }
 ],
 "metadata": {
  "kernelspec": {
   "display_name": "Python 3",
   "language": "python",
   "name": "python3"
  },
  "language_info": {
   "codemirror_mode": {
    "name": "ipython",
    "version": 3
   },
   "file_extension": ".py",
   "mimetype": "text/x-python",
   "name": "python",
   "nbconvert_exporter": "python",
   "pygments_lexer": "ipython3",
   "version": "3.8.8"
  }
 },
 "nbformat": 4,
 "nbformat_minor": 5
}

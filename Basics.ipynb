{
 "cells": [
  {
   "cell_type": "markdown",
   "id": "f43407de",
   "metadata": {},
   "source": [
    "## In this Juputer Notebook, I have covered few basic topics which are mentioned below :\n",
    "        "
   ]
  },
  {
   "cell_type": "markdown",
   "id": "8d27a047",
   "metadata": {},
   "source": [
    "### 1. Python Numbers\n",
    "### 2. Python Tuples\n",
    "### 3. Arithematic Operations\n",
    "### 4. Conversions\n",
    "### 5. Exponent Function\n",
    "### 6. Python List\n",
    "### 7. Matrix\n",
    "### 8. Operation On List\n",
    "### 9. Methods In List\n",
    "### 10. Built-In functions \n",
    "### 11. Python Tuples\n",
    "### 12. Nesting Of a Tuples\n",
    "### 13. Repetition\n",
    "### 14. Nesting Tuple In a List\n",
    "### 15. Nesting Tuple Within a List\n",
    "### 16. Python Strings\n",
    "### 17. Concatination\n",
    "### 18.Python Dictionaries\n",
    "### 19. Sets in Python\n",
    "### 20.If-else ststement in python\n",
    "### 21. Nested If statement\n",
    "### 22. If-elif else statement\n",
    "\n"
   ]
  },
  {
   "cell_type": "markdown",
   "id": "75fefb6b",
   "metadata": {},
   "source": [
    "# 1. Python Numbers"
   ]
  },
  {
   "cell_type": "code",
   "execution_count": 1,
   "id": "b43c8501",
   "metadata": {},
   "outputs": [
    {
     "data": {
      "text/plain": [
       "int"
      ]
     },
     "execution_count": 1,
     "metadata": {},
     "output_type": "execute_result"
    }
   ],
   "source": [
    "x=100\n",
    "type(x)\n"
   ]
  },
  {
   "cell_type": "code",
   "execution_count": 2,
   "id": "98fecbe7",
   "metadata": {},
   "outputs": [],
   "source": [
    "x=45*2"
   ]
  },
  {
   "cell_type": "code",
   "execution_count": 4,
   "id": "cfdb5d92",
   "metadata": {},
   "outputs": [
    {
     "name": "stdout",
     "output_type": "stream",
     "text": [
      "90\n"
     ]
    }
   ],
   "source": [
    "print (x)"
   ]
  },
  {
   "cell_type": "code",
   "execution_count": 5,
   "id": "e30805c8",
   "metadata": {},
   "outputs": [],
   "source": [
    "x=3.14"
   ]
  },
  {
   "cell_type": "code",
   "execution_count": 6,
   "id": "6ee583a4",
   "metadata": {},
   "outputs": [
    {
     "data": {
      "text/plain": [
       "float"
      ]
     },
     "execution_count": 6,
     "metadata": {},
     "output_type": "execute_result"
    }
   ],
   "source": [
    "type(x)"
   ]
  },
  {
   "cell_type": "code",
   "execution_count": 2,
   "id": "1f866b7a",
   "metadata": {},
   "outputs": [],
   "source": [
    "x=\"Simplilearn\""
   ]
  },
  {
   "cell_type": "code",
   "execution_count": 3,
   "id": "b9f8874d",
   "metadata": {},
   "outputs": [
    {
     "name": "stdout",
     "output_type": "stream",
     "text": [
      "Simplilearn\n"
     ]
    }
   ],
   "source": [
    "print(x)"
   ]
  },
  {
   "cell_type": "code",
   "execution_count": 9,
   "id": "bde60e3a",
   "metadata": {},
   "outputs": [
    {
     "data": {
      "text/plain": [
       "str"
      ]
     },
     "execution_count": 9,
     "metadata": {},
     "output_type": "execute_result"
    }
   ],
   "source": [
    "type(x)"
   ]
  },
  {
   "cell_type": "code",
   "execution_count": 2,
   "id": "547e0547",
   "metadata": {},
   "outputs": [
    {
     "name": "stdout",
     "output_type": "stream",
     "text": [
      "[14, 24, 34]\n",
      "14\n"
     ]
    }
   ],
   "source": [
    "x=[14,24,34]\n",
    "type(x)\n",
    "print(x)\n",
    "print(x[0])"
   ]
  },
  {
   "cell_type": "code",
   "execution_count": 11,
   "id": "88312be4",
   "metadata": {},
   "outputs": [
    {
     "data": {
      "text/plain": [
       "list"
      ]
     },
     "execution_count": 11,
     "metadata": {},
     "output_type": "execute_result"
    }
   ],
   "source": [
    "type(x)"
   ]
  },
  {
   "cell_type": "code",
   "execution_count": 12,
   "id": "d7963612",
   "metadata": {},
   "outputs": [
    {
     "name": "stdout",
     "output_type": "stream",
     "text": [
      "[44, 24, 34]\n"
     ]
    }
   ],
   "source": [
    "x[0]=44\n",
    "print(x)"
   ]
  },
  {
   "cell_type": "markdown",
   "id": "35e0986e",
   "metadata": {},
   "source": [
    "# 2. Python Tuples"
   ]
  },
  {
   "cell_type": "code",
   "execution_count": 5,
   "id": "0e619645",
   "metadata": {},
   "outputs": [],
   "source": [
    "x=(45,55,65)"
   ]
  },
  {
   "cell_type": "code",
   "execution_count": 14,
   "id": "0872bc52",
   "metadata": {},
   "outputs": [
    {
     "data": {
      "text/plain": [
       "tuple"
      ]
     },
     "execution_count": 14,
     "metadata": {},
     "output_type": "execute_result"
    }
   ],
   "source": [
    "type(x)"
   ]
  },
  {
   "cell_type": "markdown",
   "id": "9d994288",
   "metadata": {},
   "source": [
    "NOTE : YOU CANNOT CHANGE THE VALUE IN CASE OF TUPLES. ie, Lists are Mutable and Tuples are Immutable"
   ]
  },
  {
   "cell_type": "code",
   "execution_count": 7,
   "id": "07a841d7",
   "metadata": {},
   "outputs": [
    {
     "ename": "TypeError",
     "evalue": "'tuple' object does not support item assignment",
     "output_type": "error",
     "traceback": [
      "\u001b[1;31m---------------------------------------------------------------------------\u001b[0m",
      "\u001b[1;31mTypeError\u001b[0m                                 Traceback (most recent call last)",
      "\u001b[1;32m<ipython-input-7-2014b9fd4ce9>\u001b[0m in \u001b[0;36m<module>\u001b[1;34m\u001b[0m\n\u001b[1;32m----> 1\u001b[1;33m \u001b[0mx\u001b[0m\u001b[1;33m[\u001b[0m\u001b[1;36m0\u001b[0m\u001b[1;33m]\u001b[0m\u001b[1;33m=\u001b[0m\u001b[1;36m10\u001b[0m\u001b[1;33m\u001b[0m\u001b[1;33m\u001b[0m\u001b[0m\n\u001b[0m\u001b[0;32m      2\u001b[0m \u001b[1;31m#Error Occured\u001b[0m\u001b[1;33m\u001b[0m\u001b[1;33m\u001b[0m\u001b[1;33m\u001b[0m\u001b[0m\n",
      "\u001b[1;31mTypeError\u001b[0m: 'tuple' object does not support item assignment"
     ]
    }
   ],
   "source": [
    "x[0]=10\n",
    "#Error Occured"
   ]
  },
  {
   "cell_type": "code",
   "execution_count": 16,
   "id": "ec0d3ff4",
   "metadata": {},
   "outputs": [],
   "source": [
    "(x,y,z)=(1,2,3)"
   ]
  },
  {
   "cell_type": "code",
   "execution_count": 17,
   "id": "7e1fca23",
   "metadata": {},
   "outputs": [
    {
     "name": "stdout",
     "output_type": "stream",
     "text": [
      "1\n",
      "2\n",
      "3\n"
     ]
    }
   ],
   "source": [
    "print(x)\n",
    "print(y)\n",
    "print(z)"
   ]
  },
  {
   "cell_type": "code",
   "execution_count": 18,
   "id": "3db7d49a",
   "metadata": {},
   "outputs": [],
   "source": [
    "x=y=z=1"
   ]
  },
  {
   "cell_type": "code",
   "execution_count": 19,
   "id": "15f6775e",
   "metadata": {},
   "outputs": [
    {
     "name": "stdout",
     "output_type": "stream",
     "text": [
      "1\n",
      "1\n",
      "1\n"
     ]
    }
   ],
   "source": [
    "print(x)\n",
    "print(y)\n",
    "print(z)"
   ]
  },
  {
   "cell_type": "code",
   "execution_count": 20,
   "id": "d52acd34",
   "metadata": {},
   "outputs": [],
   "source": [
    "abc=2\n",
    "_abc=3"
   ]
  },
  {
   "cell_type": "markdown",
   "id": "5e41f129",
   "metadata": {},
   "source": [
    "1. Variable Name must begins with an alphabet or an underscore\n",
    "2. The First Character must begin with alphabet, numbers or underscore\n",
    "3. variable names are case sensitive\n",
    "4. Reserved words cannot be used as variable name. eg, break, class, try"
   ]
  },
  {
   "cell_type": "markdown",
   "id": "a8a9adef",
   "metadata": {},
   "source": [
    "## 3. ARITHEMATIC OPERATIONS"
   ]
  },
  {
   "cell_type": "code",
   "execution_count": 22,
   "id": "a9e4b714",
   "metadata": {},
   "outputs": [],
   "source": [
    "num1= 10\n",
    "num2= 20"
   ]
  },
  {
   "cell_type": "code",
   "execution_count": 23,
   "id": "a7172c1e",
   "metadata": {
    "scrolled": true
   },
   "outputs": [
    {
     "name": "stdout",
     "output_type": "stream",
     "text": [
      "30\n"
     ]
    }
   ],
   "source": [
    "print(num1+num2)"
   ]
  },
  {
   "cell_type": "code",
   "execution_count": 24,
   "id": "2dbef0d6",
   "metadata": {},
   "outputs": [
    {
     "name": "stdout",
     "output_type": "stream",
     "text": [
      "-10\n"
     ]
    }
   ],
   "source": [
    "print(num1-num2)"
   ]
  },
  {
   "cell_type": "code",
   "execution_count": 25,
   "id": "869b35ef",
   "metadata": {},
   "outputs": [
    {
     "name": "stdout",
     "output_type": "stream",
     "text": [
      "200\n"
     ]
    }
   ],
   "source": [
    "print(num1*num2)"
   ]
  },
  {
   "cell_type": "code",
   "execution_count": 26,
   "id": "a8e7ec64",
   "metadata": {},
   "outputs": [
    {
     "name": "stdout",
     "output_type": "stream",
     "text": [
      "0.5\n"
     ]
    }
   ],
   "source": [
    "print(num1/num2)"
   ]
  },
  {
   "cell_type": "code",
   "execution_count": 27,
   "id": "ade5982c",
   "metadata": {},
   "outputs": [
    {
     "name": "stdout",
     "output_type": "stream",
     "text": [
      "3.3333333333333335\n"
     ]
    }
   ],
   "source": [
    "print(10/3)"
   ]
  },
  {
   "cell_type": "code",
   "execution_count": 28,
   "id": "7865b87e",
   "metadata": {},
   "outputs": [
    {
     "name": "stdout",
     "output_type": "stream",
     "text": [
      "3\n"
     ]
    }
   ],
   "source": [
    "print(10//3)"
   ]
  },
  {
   "cell_type": "code",
   "execution_count": 29,
   "id": "ae88c7d7",
   "metadata": {},
   "outputs": [
    {
     "name": "stdout",
     "output_type": "stream",
     "text": [
      "100000000000000000000\n"
     ]
    }
   ],
   "source": [
    "print(num1**num2)"
   ]
  },
  {
   "cell_type": "code",
   "execution_count": 30,
   "id": "ea3bb76f",
   "metadata": {},
   "outputs": [
    {
     "name": "stdout",
     "output_type": "stream",
     "text": [
      "200\n"
     ]
    }
   ],
   "source": [
    "print(num1*num2)"
   ]
  },
  {
   "cell_type": "code",
   "execution_count": 34,
   "id": "57cdb845",
   "metadata": {},
   "outputs": [
    {
     "name": "stdout",
     "output_type": "stream",
     "text": [
      "100\n"
     ]
    }
   ],
   "source": [
    "print(10**2)#10 to the power 2"
   ]
  },
  {
   "cell_type": "code",
   "execution_count": 39,
   "id": "967888e1",
   "metadata": {},
   "outputs": [
    {
     "name": "stdout",
     "output_type": "stream",
     "text": [
      "10\n"
     ]
    }
   ],
   "source": [
    "#Inorder to get remainder use % (modulus) Operator\n",
    "print(num1%num2)"
   ]
  },
  {
   "cell_type": "markdown",
   "id": "7a6b8461",
   "metadata": {},
   "source": [
    "## 4. CONVERSIONS"
   ]
  },
  {
   "cell_type": "code",
   "execution_count": 40,
   "id": "576f8e9e",
   "metadata": {},
   "outputs": [
    {
     "data": {
      "text/plain": [
       "str"
      ]
     },
     "execution_count": 40,
     "metadata": {},
     "output_type": "execute_result"
    }
   ],
   "source": [
    "x=\"192\"\n",
    "type(x)"
   ]
  },
  {
   "cell_type": "code",
   "execution_count": 41,
   "id": "03d0f74c",
   "metadata": {},
   "outputs": [
    {
     "data": {
      "text/plain": [
       "192"
      ]
     },
     "execution_count": 41,
     "metadata": {},
     "output_type": "execute_result"
    }
   ],
   "source": [
    "int(x)"
   ]
  },
  {
   "cell_type": "code",
   "execution_count": 42,
   "id": "d4eeb124",
   "metadata": {},
   "outputs": [],
   "source": [
    "x=float(x)"
   ]
  },
  {
   "cell_type": "code",
   "execution_count": 43,
   "id": "60409306",
   "metadata": {},
   "outputs": [
    {
     "name": "stdout",
     "output_type": "stream",
     "text": [
      "192.0\n"
     ]
    }
   ],
   "source": [
    "print(x)"
   ]
  },
  {
   "cell_type": "code",
   "execution_count": 47,
   "id": "4e66bae0",
   "metadata": {},
   "outputs": [
    {
     "data": {
      "text/plain": [
       "'192.0'"
      ]
     },
     "execution_count": 47,
     "metadata": {},
     "output_type": "execute_result"
    }
   ],
   "source": [
    "x=str(x)\n",
    "str(x)"
   ]
  },
  {
   "cell_type": "code",
   "execution_count": 48,
   "id": "1e0530dc",
   "metadata": {},
   "outputs": [],
   "source": [
    "x=complex(x)"
   ]
  },
  {
   "cell_type": "code",
   "execution_count": 49,
   "id": "480540e8",
   "metadata": {},
   "outputs": [
    {
     "name": "stdout",
     "output_type": "stream",
     "text": [
      "(192+0j)\n"
     ]
    }
   ],
   "source": [
    "print(x)"
   ]
  },
  {
   "cell_type": "markdown",
   "id": "28044231",
   "metadata": {},
   "source": [
    "#### FUNCTIONS"
   ]
  },
  {
   "cell_type": "code",
   "execution_count": 52,
   "id": "b56e1c9a",
   "metadata": {},
   "outputs": [
    {
     "name": "stdout",
     "output_type": "stream",
     "text": [
      "54\n"
     ]
    }
   ],
   "source": [
    "#Absolute Function : Wheather your Value is positive or negative, \n",
    "#the return value will always be positive\n",
    "x=-54\n",
    "print(abs(x))"
   ]
  },
  {
   "cell_type": "markdown",
   "id": "6ec7d0d5",
   "metadata": {},
   "source": [
    "## 5. Exponent Function"
   ]
  },
  {
   "cell_type": "code",
   "execution_count": 56,
   "id": "c1b4a746",
   "metadata": {},
   "outputs": [],
   "source": [
    "#Inorder to use Exponent function we are required to import the math library "
   ]
  },
  {
   "cell_type": "code",
   "execution_count": 55,
   "id": "baf4140a",
   "metadata": {},
   "outputs": [
    {
     "name": "stdout",
     "output_type": "stream",
     "text": [
      "22026.465794806718\n"
     ]
    }
   ],
   "source": [
    "import math\n",
    "x=10\n",
    "print(math.exp(x))"
   ]
  },
  {
   "cell_type": "code",
   "execution_count": 57,
   "id": "fc18f687",
   "metadata": {},
   "outputs": [
    {
     "data": {
      "text/plain": [
       "2.718281828459045"
      ]
     },
     "execution_count": 57,
     "metadata": {},
     "output_type": "execute_result"
    }
   ],
   "source": [
    "math.e"
   ]
  },
  {
   "cell_type": "code",
   "execution_count": 64,
   "id": "5ddff408",
   "metadata": {},
   "outputs": [
    {
     "data": {
      "text/plain": [
       "3.141592653589793"
      ]
     },
     "execution_count": 64,
     "metadata": {},
     "output_type": "execute_result"
    }
   ],
   "source": [
    "math.pi"
   ]
  },
  {
   "cell_type": "code",
   "execution_count": 67,
   "id": "5f2ea33a",
   "metadata": {},
   "outputs": [
    {
     "data": {
      "text/plain": [
       "890"
      ]
     },
     "execution_count": 67,
     "metadata": {},
     "output_type": "execute_result"
    }
   ],
   "source": [
    "max(538,346,890,800,535)"
   ]
  },
  {
   "cell_type": "code",
   "execution_count": 68,
   "id": "f57be1fb",
   "metadata": {},
   "outputs": [
    {
     "data": {
      "text/plain": [
       "190"
      ]
     },
     "execution_count": 68,
     "metadata": {},
     "output_type": "execute_result"
    }
   ],
   "source": [
    "min(320,318,500,517,190)"
   ]
  },
  {
   "cell_type": "markdown",
   "id": "630a9a79",
   "metadata": {},
   "source": []
  },
  {
   "cell_type": "markdown",
   "id": "0271942f",
   "metadata": {},
   "source": [
    "## 6. Python Lists"
   ]
  },
  {
   "cell_type": "code",
   "execution_count": 69,
   "id": "56a9c58d",
   "metadata": {},
   "outputs": [],
   "source": [
    "num=[1,2,3,4,5]"
   ]
  },
  {
   "cell_type": "code",
   "execution_count": 70,
   "id": "19004c02",
   "metadata": {},
   "outputs": [
    {
     "name": "stdout",
     "output_type": "stream",
     "text": [
      "[1, 2, 3, 4, 5]\n"
     ]
    }
   ],
   "source": [
    "print(num)"
   ]
  },
  {
   "cell_type": "code",
   "execution_count": 72,
   "id": "355acba2",
   "metadata": {},
   "outputs": [
    {
     "name": "stdout",
     "output_type": "stream",
     "text": [
      "['a', 'b', 'c', 'd']\n"
     ]
    }
   ],
   "source": [
    "letter=['a','b','c','d']\n",
    "print(letter)"
   ]
  },
  {
   "cell_type": "code",
   "execution_count": 24,
   "id": "dfdd2bb2",
   "metadata": {},
   "outputs": [],
   "source": [
    "stg=[\"get\",\"certified\",\"get\",\"ahead\"]"
   ]
  },
  {
   "cell_type": "code",
   "execution_count": 3,
   "id": "92f44f20",
   "metadata": {},
   "outputs": [
    {
     "name": "stdout",
     "output_type": "stream",
     "text": [
      "['get', 'certified', 'get', 'ahead']\n"
     ]
    }
   ],
   "source": [
    "print(stg)"
   ]
  },
  {
   "cell_type": "code",
   "execution_count": 4,
   "id": "0db645de",
   "metadata": {},
   "outputs": [
    {
     "name": "stdout",
     "output_type": "stream",
     "text": [
      "get\n"
     ]
    }
   ],
   "source": [
    "print(stg[2])"
   ]
  },
  {
   "cell_type": "code",
   "execution_count": 5,
   "id": "d9efba4f",
   "metadata": {},
   "outputs": [],
   "source": [
    "mix=[1,2,'a','b',\"Simplilearn\"]"
   ]
  },
  {
   "cell_type": "code",
   "execution_count": 6,
   "id": "cbbeaafc",
   "metadata": {},
   "outputs": [
    {
     "name": "stdout",
     "output_type": "stream",
     "text": [
      "Simplilearn\n"
     ]
    }
   ],
   "source": [
    "print(mix[-1])"
   ]
  },
  {
   "cell_type": "markdown",
   "id": "82226aaa",
   "metadata": {},
   "source": [
    "## 7. MATRIX"
   ]
  },
  {
   "cell_type": "markdown",
   "id": "b5c70718",
   "metadata": {},
   "source": [
    "In Programming languages, Matrix are associated with Arrays(2D arrays)\n",
    "In case of Python, Matrix can also be a list \n",
    "ie, We can have list containing two or more lists"
   ]
  },
  {
   "cell_type": "code",
   "execution_count": 7,
   "id": "d2f61f77",
   "metadata": {},
   "outputs": [
    {
     "name": "stdout",
     "output_type": "stream",
     "text": [
      "[[1, 2], [3, 4, 5], ['a', 'b', 'c']]\n"
     ]
    }
   ],
   "source": [
    "mat=[[1,2],[3,4,5],['a','b','c']]\n",
    "print(mat)"
   ]
  },
  {
   "cell_type": "code",
   "execution_count": 8,
   "id": "3bd66fc1",
   "metadata": {},
   "outputs": [
    {
     "name": "stdout",
     "output_type": "stream",
     "text": [
      "[3, 4, 5]\n"
     ]
    }
   ],
   "source": [
    "print(mat[1])"
   ]
  },
  {
   "cell_type": "code",
   "execution_count": 9,
   "id": "c6f78771",
   "metadata": {},
   "outputs": [
    {
     "name": "stdout",
     "output_type": "stream",
     "text": [
      "[[1, 2], [3, 4, 5], ['a', 'b', 'c'], 'get', 'certified', 'get', 'ahead']\n"
     ]
    }
   ],
   "source": [
    "concat=mat+stg\n",
    "print(concat)"
   ]
  },
  {
   "cell_type": "code",
   "execution_count": 10,
   "id": "5222fa07",
   "metadata": {},
   "outputs": [
    {
     "name": "stdout",
     "output_type": "stream",
     "text": [
      "[['a', 'b', 'c'], 'get']\n"
     ]
    }
   ],
   "source": [
    "print(concat[2:4])"
   ]
  },
  {
   "cell_type": "code",
   "execution_count": 11,
   "id": "a58a9e9b",
   "metadata": {},
   "outputs": [
    {
     "data": {
      "text/plain": [
       "[[1, 2], ['a', 'b', 'c'], 'certified', 'ahead']"
      ]
     },
     "execution_count": 11,
     "metadata": {},
     "output_type": "execute_result"
    }
   ],
   "source": [
    "#TO extract every second element from the list\n",
    "concat[::2]"
   ]
  },
  {
   "cell_type": "code",
   "execution_count": 12,
   "id": "7f82fa75",
   "metadata": {},
   "outputs": [
    {
     "data": {
      "text/plain": [
       "['ahead', 'get', 'certified', 'get', ['a', 'b', 'c'], [3, 4, 5], [1, 2]]"
      ]
     },
     "execution_count": 12,
     "metadata": {},
     "output_type": "execute_result"
    }
   ],
   "source": [
    "concat[::-1]"
   ]
  },
  {
   "cell_type": "markdown",
   "id": "baa37ec0",
   "metadata": {},
   "source": [
    "## 8. OPERATIONS ON LIST"
   ]
  },
  {
   "cell_type": "code",
   "execution_count": 13,
   "id": "06a3f6a7",
   "metadata": {},
   "outputs": [],
   "source": [
    "#Unpacking Operations\n",
    "Z=[0]*100"
   ]
  },
  {
   "cell_type": "code",
   "execution_count": 14,
   "id": "d4779b82",
   "metadata": {},
   "outputs": [
    {
     "name": "stdout",
     "output_type": "stream",
     "text": [
      "[0, 0, 0, 0, 0, 0, 0, 0, 0, 0, 0, 0, 0, 0, 0, 0, 0, 0, 0, 0, 0, 0, 0, 0, 0, 0, 0, 0, 0, 0, 0, 0, 0, 0, 0, 0, 0, 0, 0, 0, 0, 0, 0, 0, 0, 0, 0, 0, 0, 0, 0, 0, 0, 0, 0, 0, 0, 0, 0, 0, 0, 0, 0, 0, 0, 0, 0, 0, 0, 0, 0, 0, 0, 0, 0, 0, 0, 0, 0, 0, 0, 0, 0, 0, 0, 0, 0, 0, 0, 0, 0, 0, 0, 0, 0, 0, 0, 0, 0, 0]\n"
     ]
    }
   ],
   "source": [
    "print(Z)"
   ]
  },
  {
   "cell_type": "code",
   "execution_count": 3,
   "id": "3f447b01",
   "metadata": {},
   "outputs": [
    {
     "data": {
      "text/plain": [
       "str"
      ]
     },
     "execution_count": 3,
     "metadata": {},
     "output_type": "execute_result"
    }
   ],
   "source": [
    "\n",
    "var=('hey,there')\n",
    "type(var)"
   ]
  },
  {
   "cell_type": "code",
   "execution_count": 16,
   "id": "65b8fb68",
   "metadata": {},
   "outputs": [
    {
     "name": "stdout",
     "output_type": "stream",
     "text": [
      "hey,there\n"
     ]
    }
   ],
   "source": [
    "print(var)"
   ]
  },
  {
   "cell_type": "code",
   "execution_count": 17,
   "id": "f5e8a2b3",
   "metadata": {},
   "outputs": [],
   "source": [
    "var=list('hey,there')"
   ]
  },
  {
   "cell_type": "code",
   "execution_count": 18,
   "id": "45ac0c9f",
   "metadata": {},
   "outputs": [
    {
     "name": "stdout",
     "output_type": "stream",
     "text": [
      "['h', 'e', 'y', ',', 't', 'h', 'e', 'r', 'e']\n"
     ]
    }
   ],
   "source": [
    "print(var)"
   ]
  },
  {
   "cell_type": "code",
   "execution_count": 6,
   "id": "aee88ac7",
   "metadata": {},
   "outputs": [],
   "source": [
    "num = [1,2,3,4,5]"
   ]
  },
  {
   "cell_type": "code",
   "execution_count": 7,
   "id": "7bc2d361",
   "metadata": {},
   "outputs": [
    {
     "name": "stdout",
     "output_type": "stream",
     "text": [
      "[1, 2, 3, 4, 5]\n"
     ]
    }
   ],
   "source": [
    "print(num)"
   ]
  },
  {
   "cell_type": "markdown",
   "id": "4499ab4c",
   "metadata": {},
   "source": [
    "Here the * signifies that every element that has  not been\n",
    "put into the previous variable is put into others"
   ]
  },
  {
   "cell_type": "code",
   "execution_count": 27,
   "id": "b7261c5c",
   "metadata": {},
   "outputs": [],
   "source": [
    "one,two,*other=num"
   ]
  },
  {
   "cell_type": "code",
   "execution_count": 28,
   "id": "4afadf50",
   "metadata": {},
   "outputs": [
    {
     "name": "stdout",
     "output_type": "stream",
     "text": [
      "1\n",
      "2\n",
      "[3, 4, 5]\n"
     ]
    }
   ],
   "source": [
    "print(one)\n",
    "print(two)\n",
    "print(other)"
   ]
  },
  {
   "cell_type": "code",
   "execution_count": 29,
   "id": "4d8653a4",
   "metadata": {},
   "outputs": [],
   "source": [
    "test=['English','Maths','Hindi','Science','Social Studies']"
   ]
  },
  {
   "cell_type": "code",
   "execution_count": 30,
   "id": "16720a22",
   "metadata": {},
   "outputs": [
    {
     "name": "stdout",
     "output_type": "stream",
     "text": [
      "['English', 'Maths', 'Hindi', 'Science', 'Social Studies']\n"
     ]
    }
   ],
   "source": [
    "print(test)"
   ]
  },
  {
   "cell_type": "code",
   "execution_count": 31,
   "id": "345f6a25",
   "metadata": {},
   "outputs": [],
   "source": [
    "slot1,slot2,slot3,*others=test"
   ]
  },
  {
   "cell_type": "code",
   "execution_count": 32,
   "id": "7c862286",
   "metadata": {},
   "outputs": [
    {
     "name": "stdout",
     "output_type": "stream",
     "text": [
      "English\n",
      "Maths\n",
      "Hindi\n",
      "['Science', 'Social Studies']\n"
     ]
    }
   ],
   "source": [
    "print(slot1)\n",
    "print(slot2)\n",
    "print(slot3)\n",
    "print(others)"
   ]
  },
  {
   "cell_type": "markdown",
   "id": "35b9d15d",
   "metadata": {},
   "source": [
    "## 9.  Methods in Lists "
   ]
  },
  {
   "cell_type": "code",
   "execution_count": 8,
   "id": "68af88c5",
   "metadata": {},
   "outputs": [
    {
     "name": "stdout",
     "output_type": "stream",
     "text": [
      "[1, 2, 3, 4, 5]\n"
     ]
    }
   ],
   "source": [
    "print(num)"
   ]
  },
  {
   "cell_type": "code",
   "execution_count": 9,
   "id": "8ca5907b",
   "metadata": {},
   "outputs": [],
   "source": [
    "num.append(6)"
   ]
  },
  {
   "cell_type": "code",
   "execution_count": 48,
   "id": "6158f3eb",
   "metadata": {},
   "outputs": [
    {
     "name": "stdout",
     "output_type": "stream",
     "text": [
      "[1, 2, 3, 4, 5, 'Simplilearn', 'Simplilearn', 6, 'get', 'certified', 'get', 'ahead', [1, 2], [3, 4, 5], ['a', 'b', 'c'], 'get', 'certified', 'get', 'ahead', 6]\n"
     ]
    }
   ],
   "source": [
    "print(num)"
   ]
  },
  {
   "cell_type": "markdown",
   "id": "c284030d",
   "metadata": {},
   "source": [
    "Inorder to add not only a single element to the end of the list but an entire other list,\n",
    "we will have to use \"Method extend\""
   ]
  },
  {
   "cell_type": "code",
   "execution_count": 49,
   "id": "db10f18d",
   "metadata": {},
   "outputs": [
    {
     "name": "stdout",
     "output_type": "stream",
     "text": [
      "['get', 'certified', 'get', 'ahead']\n"
     ]
    }
   ],
   "source": [
    "print(stg)"
   ]
  },
  {
   "cell_type": "code",
   "execution_count": 50,
   "id": "83c3c66a",
   "metadata": {},
   "outputs": [],
   "source": [
    "num.extend(stg)"
   ]
  },
  {
   "cell_type": "code",
   "execution_count": 51,
   "id": "c276415d",
   "metadata": {},
   "outputs": [
    {
     "name": "stdout",
     "output_type": "stream",
     "text": [
      "[1, 2, 3, 4, 5, 'Simplilearn', 'Simplilearn', 6, 'get', 'certified', 'get', 'ahead', [1, 2], [3, 4, 5], ['a', 'b', 'c'], 'get', 'certified', 'get', 'ahead', 6, 'get', 'certified', 'get', 'ahead']\n"
     ]
    }
   ],
   "source": [
    "print(num)"
   ]
  },
  {
   "cell_type": "code",
   "execution_count": 44,
   "id": "58eee570",
   "metadata": {},
   "outputs": [],
   "source": [
    "num.insert(5,\"Simplilearn\") #Mentioning the index number"
   ]
  },
  {
   "cell_type": "code",
   "execution_count": 45,
   "id": "c8b13522",
   "metadata": {},
   "outputs": [
    {
     "name": "stdout",
     "output_type": "stream",
     "text": [
      "[1, 2, 3, 4, 5, 'Simplilearn', 'Simplilearn', 6, 'get', 'certified', 'get', 'ahead', [1, 2], [3, 4, 5], ['a', 'b', 'c'], 'get', 'certified', 'get', 'ahead']\n"
     ]
    }
   ],
   "source": [
    "print(num)"
   ]
  },
  {
   "cell_type": "code",
   "execution_count": 55,
   "id": "6f5f793c",
   "metadata": {},
   "outputs": [],
   "source": [
    "num = [1,2,3,4,5,6]"
   ]
  },
  {
   "cell_type": "code",
   "execution_count": 63,
   "id": "7be612df",
   "metadata": {},
   "outputs": [
    {
     "name": "stdout",
     "output_type": "stream",
     "text": [
      "['Simplilearn', 1, 2, 3, 4, 5, 6]\n"
     ]
    }
   ],
   "source": [
    "print(num)"
   ]
  },
  {
   "cell_type": "code",
   "execution_count": 64,
   "id": "3b986623",
   "metadata": {},
   "outputs": [],
   "source": [
    "num.insert(0,\"Simplilearn\")#Mentioning the index number"
   ]
  },
  {
   "cell_type": "code",
   "execution_count": 65,
   "id": "018c5e62",
   "metadata": {},
   "outputs": [
    {
     "name": "stdout",
     "output_type": "stream",
     "text": [
      "['Simplilearn', 'Simplilearn', 1, 2, 3, 4, 5, 6]\n"
     ]
    }
   ],
   "source": [
    "print(num)"
   ]
  },
  {
   "cell_type": "code",
   "execution_count": 67,
   "id": "10d9f23f",
   "metadata": {},
   "outputs": [],
   "source": [
    "num.remove(\"Simplilearn\") #remove Function"
   ]
  },
  {
   "cell_type": "code",
   "execution_count": 68,
   "id": "2afab7ed",
   "metadata": {},
   "outputs": [
    {
     "name": "stdout",
     "output_type": "stream",
     "text": [
      "[1, 2, 3, 4, 5, 6]\n"
     ]
    }
   ],
   "source": [
    "print(num)"
   ]
  },
  {
   "cell_type": "code",
   "execution_count": 69,
   "id": "01ed47ed",
   "metadata": {},
   "outputs": [],
   "source": [
    "stg=[\"Get\",\"Certified\",\"Get\",\"Ahead\"]"
   ]
  },
  {
   "cell_type": "code",
   "execution_count": 70,
   "id": "609b9b5d",
   "metadata": {},
   "outputs": [],
   "source": [
    "stg.remove(\"Get\")"
   ]
  },
  {
   "cell_type": "code",
   "execution_count": 71,
   "id": "51734864",
   "metadata": {},
   "outputs": [
    {
     "name": "stdout",
     "output_type": "stream",
     "text": [
      "['Certified', 'Get', 'Ahead']\n"
     ]
    }
   ],
   "source": [
    "print(stg)"
   ]
  },
  {
   "cell_type": "code",
   "execution_count": 72,
   "id": "43e5e43d",
   "metadata": {},
   "outputs": [],
   "source": [
    "stg.remove(stg[-1])"
   ]
  },
  {
   "cell_type": "code",
   "execution_count": 73,
   "id": "e6b6d6ee",
   "metadata": {},
   "outputs": [
    {
     "name": "stdout",
     "output_type": "stream",
     "text": [
      "['Certified', 'Get']\n"
     ]
    }
   ],
   "source": [
    "print(stg)"
   ]
  },
  {
   "cell_type": "code",
   "execution_count": 3,
   "id": "a054489f",
   "metadata": {},
   "outputs": [],
   "source": [
    "eg=[\"Simplilearn\", \"Octopus\", \"White Witch\"]"
   ]
  },
  {
   "cell_type": "code",
   "execution_count": 4,
   "id": "c7e4c46c",
   "metadata": {},
   "outputs": [
    {
     "name": "stdout",
     "output_type": "stream",
     "text": [
      "['Simplilearn', 'Octopus', 'White Witch']\n"
     ]
    }
   ],
   "source": [
    "print(eg)"
   ]
  },
  {
   "cell_type": "code",
   "execution_count": 5,
   "id": "d9b87e55",
   "metadata": {},
   "outputs": [],
   "source": [
    "eg.remove(\"Octopus\")"
   ]
  },
  {
   "cell_type": "code",
   "execution_count": 6,
   "id": "dc14427b",
   "metadata": {},
   "outputs": [
    {
     "name": "stdout",
     "output_type": "stream",
     "text": [
      "['Simplilearn', 'White Witch']\n"
     ]
    }
   ],
   "source": [
    "print(eg)"
   ]
  },
  {
   "cell_type": "code",
   "execution_count": 16,
   "id": "035b648e",
   "metadata": {},
   "outputs": [
    {
     "name": "stdout",
     "output_type": "stream",
     "text": [
      "['b', 'm', 'l', 'w', 'v', 'f']\n",
      "['b', 'f', 'l', 'm', 'v', 'w']\n"
     ]
    }
   ],
   "source": [
    "#Creating a new list -----------------------> The output will appear in a non-shuffled manner\n",
    "var1=['b','m','l','w','v','f']\n",
    "print(var1)\n",
    "var1.sort()#------------------------->After sorting the output will be shuffled\n",
    "print(var1)"
   ]
  },
  {
   "cell_type": "markdown",
   "id": "507a55bb",
   "metadata": {},
   "source": [
    "# 10. Built in function with list"
   ]
  },
  {
   "cell_type": "code",
   "execution_count": 19,
   "id": "bd53eb47",
   "metadata": {},
   "outputs": [
    {
     "data": {
      "text/plain": [
       "6"
      ]
     },
     "execution_count": 19,
     "metadata": {},
     "output_type": "execute_result"
    }
   ],
   "source": [
    "len(var1)"
   ]
  },
  {
   "cell_type": "code",
   "execution_count": 20,
   "id": "c4566177",
   "metadata": {},
   "outputs": [],
   "source": [
    "x=[2,2,4,4,5,6,7,9,10]"
   ]
  },
  {
   "cell_type": "code",
   "execution_count": 21,
   "id": "3d40dcde",
   "metadata": {},
   "outputs": [
    {
     "name": "stdout",
     "output_type": "stream",
     "text": [
      "[2, 2, 4, 4, 5, 6, 7, 9, 10]\n"
     ]
    }
   ],
   "source": [
    "print(x)"
   ]
  },
  {
   "cell_type": "code",
   "execution_count": 26,
   "id": "0d1aa2e8",
   "metadata": {},
   "outputs": [
    {
     "data": {
      "text/plain": [
       "9"
      ]
     },
     "execution_count": 26,
     "metadata": {},
     "output_type": "execute_result"
    }
   ],
   "source": [
    "len(x)"
   ]
  },
  {
   "cell_type": "code",
   "execution_count": 27,
   "id": "685e40f5",
   "metadata": {},
   "outputs": [
    {
     "data": {
      "text/plain": [
       "2"
      ]
     },
     "execution_count": 27,
     "metadata": {},
     "output_type": "execute_result"
    }
   ],
   "source": [
    "min(x)"
   ]
  },
  {
   "cell_type": "code",
   "execution_count": 28,
   "id": "4d232db0",
   "metadata": {},
   "outputs": [
    {
     "data": {
      "text/plain": [
       "10"
      ]
     },
     "execution_count": 28,
     "metadata": {},
     "output_type": "execute_result"
    }
   ],
   "source": [
    "max(x)"
   ]
  },
  {
   "cell_type": "code",
   "execution_count": 29,
   "id": "8c87517d",
   "metadata": {},
   "outputs": [
    {
     "data": {
      "text/plain": [
       "49"
      ]
     },
     "execution_count": 29,
     "metadata": {},
     "output_type": "execute_result"
    }
   ],
   "source": [
    "sum(x)"
   ]
  },
  {
   "cell_type": "code",
   "execution_count": 30,
   "id": "c2fc58cd",
   "metadata": {},
   "outputs": [],
   "source": [
    "#find average\n",
    "Av = sum(x)/len(x)"
   ]
  },
  {
   "cell_type": "code",
   "execution_count": 31,
   "id": "9f3fb0c0",
   "metadata": {},
   "outputs": [
    {
     "name": "stdout",
     "output_type": "stream",
     "text": [
      "5.444444444444445\n"
     ]
    }
   ],
   "source": [
    "print(Av)"
   ]
  },
  {
   "cell_type": "markdown",
   "id": "1e248bfc",
   "metadata": {},
   "source": [
    "## 11.  PYTHON TUPLES"
   ]
  },
  {
   "cell_type": "code",
   "execution_count": 32,
   "id": "e4b16138",
   "metadata": {},
   "outputs": [
    {
     "name": "stdout",
     "output_type": "stream",
     "text": [
      "<class 'type'>\n"
     ]
    }
   ],
   "source": [
    "emp=()\n",
    "print(type)"
   ]
  },
  {
   "cell_type": "code",
   "execution_count": 33,
   "id": "7bd29036",
   "metadata": {},
   "outputs": [],
   "source": [
    "city=\"Famous\","
   ]
  },
  {
   "cell_type": "code",
   "execution_count": 34,
   "id": "034fddcb",
   "metadata": {},
   "outputs": [
    {
     "name": "stdout",
     "output_type": "stream",
     "text": [
      "<class 'type'>\n"
     ]
    }
   ],
   "source": [
    "print(type)"
   ]
  },
  {
   "cell_type": "code",
   "execution_count": 36,
   "id": "fe688cea",
   "metadata": {},
   "outputs": [],
   "source": [
    "city=(\"Famous\")"
   ]
  },
  {
   "cell_type": "code",
   "execution_count": 37,
   "id": "95010965",
   "metadata": {},
   "outputs": [
    {
     "name": "stdout",
     "output_type": "stream",
     "text": [
      "<class 'type'>\n"
     ]
    }
   ],
   "source": [
    "print(type)"
   ]
  },
  {
   "cell_type": "markdown",
   "id": "e99db794",
   "metadata": {},
   "source": [
    "We have done few operations on tuples in the starting part of the code "
   ]
  },
  {
   "cell_type": "markdown",
   "id": "20f461e0",
   "metadata": {},
   "source": [
    "Tuples are Immutable therefore cannot be altered in any sense such as ; Append, extend, insert etc \n",
    "and if we try doing so, it is no surprise getting an error"
   ]
  },
  {
   "cell_type": "markdown",
   "id": "a6795c9a",
   "metadata": {},
   "source": [
    "## 12. Nesting of a tuple"
   ]
  },
  {
   "cell_type": "code",
   "execution_count": 11,
   "id": "ce215e02",
   "metadata": {},
   "outputs": [
    {
     "name": "stdout",
     "output_type": "stream",
     "text": [
      "('Mumbai', 'Pune', 'Bangalore', 'Delhi')\n"
     ]
    }
   ],
   "source": [
    "city=(\"Mumbai\",\"Pune\",\"Bangalore\",\"Delhi\")\n",
    "print(city)"
   ]
  },
  {
   "cell_type": "code",
   "execution_count": 12,
   "id": "ca49f0ce",
   "metadata": {},
   "outputs": [
    {
     "name": "stdout",
     "output_type": "stream",
     "text": [
      "(1, 2, 3, 4)\n"
     ]
    }
   ],
   "source": [
    "num=(1,2,3,4)\n",
    "print(num)"
   ]
  },
  {
   "cell_type": "code",
   "execution_count": 13,
   "id": "2af53d42",
   "metadata": {},
   "outputs": [
    {
     "name": "stdout",
     "output_type": "stream",
     "text": [
      "(('Mumbai', 'Pune', 'Bangalore', 'Delhi'), (1, 2, 3, 4))\n"
     ]
    }
   ],
   "source": [
    "nest=(city,num)\n",
    "print(nest)"
   ]
  },
  {
   "cell_type": "markdown",
   "id": "64fef469",
   "metadata": {},
   "source": [
    "## 13. Repetition"
   ]
  },
  {
   "cell_type": "code",
   "execution_count": 98,
   "id": "d78a9f5f",
   "metadata": {},
   "outputs": [
    {
     "data": {
      "text/plain": [
       "('Python', 'Python', 'Python', 'Python', 'Python', 'Python', 'Python')"
      ]
     },
     "execution_count": 98,
     "metadata": {},
     "output_type": "execute_result"
    }
   ],
   "source": [
    "rep=(\"Python\",)*7\n",
    "rep"
   ]
  },
  {
   "cell_type": "code",
   "execution_count": 99,
   "id": "effc874d",
   "metadata": {},
   "outputs": [
    {
     "data": {
      "text/plain": [
       "('Python',\n",
       " 'Python',\n",
       " 'Python',\n",
       " 'Python',\n",
       " 'Python',\n",
       " 'Python',\n",
       " 'Python',\n",
       " 'Python',\n",
       " 'Python',\n",
       " 'Python',\n",
       " 'Python',\n",
       " 'Python',\n",
       " 'Python',\n",
       " 'Python',\n",
       " 'Python',\n",
       " 'Python',\n",
       " 'Python',\n",
       " 'Python',\n",
       " 'Python',\n",
       " 'Python')"
      ]
     },
     "execution_count": 99,
     "metadata": {},
     "output_type": "execute_result"
    }
   ],
   "source": [
    "rep=(\"Python\",)*20\n",
    "rep"
   ]
  },
  {
   "cell_type": "code",
   "execution_count": 100,
   "id": "69cd3723",
   "metadata": {},
   "outputs": [
    {
     "data": {
      "text/plain": [
       "'Python, Python, Python, Python, Python, '"
      ]
     },
     "execution_count": 100,
     "metadata": {},
     "output_type": "execute_result"
    }
   ],
   "source": [
    "rep=(\"Python, \"*5)\n",
    "rep"
   ]
  },
  {
   "cell_type": "code",
   "execution_count": 101,
   "id": "f99d2f42",
   "metadata": {},
   "outputs": [
    {
     "data": {
      "text/plain": [
       "'Python, Python, Python, Python, Python, '"
      ]
     },
     "execution_count": 101,
     "metadata": {},
     "output_type": "execute_result"
    }
   ],
   "source": [
    "rep"
   ]
  },
  {
   "cell_type": "code",
   "execution_count": 102,
   "id": "9bbc3a29",
   "metadata": {},
   "outputs": [
    {
     "name": "stdout",
     "output_type": "stream",
     "text": [
      "Python, Python, Python, Python, Python, \n"
     ]
    }
   ],
   "source": [
    "print(rep)"
   ]
  },
  {
   "cell_type": "code",
   "execution_count": 103,
   "id": "da5af726",
   "metadata": {},
   "outputs": [
    {
     "data": {
      "text/plain": [
       "1"
      ]
     },
     "execution_count": 103,
     "metadata": {},
     "output_type": "execute_result"
    }
   ],
   "source": [
    "num1=(3,4,5,6,7,8)\n",
    "num1.count(3)"
   ]
  },
  {
   "cell_type": "code",
   "execution_count": 104,
   "id": "51eea2ad",
   "metadata": {},
   "outputs": [
    {
     "data": {
      "text/plain": [
       "2"
      ]
     },
     "execution_count": 104,
     "metadata": {},
     "output_type": "execute_result"
    }
   ],
   "source": [
    "var=('a','a','b','c')\n",
    "var.count('a')"
   ]
  },
  {
   "cell_type": "markdown",
   "id": "eecf498d",
   "metadata": {},
   "source": [
    "# 14. Nesting tuples in a list"
   ]
  },
  {
   "cell_type": "code",
   "execution_count": 121,
   "id": "73f318a2",
   "metadata": {},
   "outputs": [
    {
     "name": "stdout",
     "output_type": "stream",
     "text": [
      "(5, 6, 7, 8)\n"
     ]
    }
   ],
   "source": [
    "lst=[(1,2,3,4),(5,6,7,8)]\n",
    "print(lst[1])"
   ]
  },
  {
   "cell_type": "markdown",
   "id": "4eb6f7b2",
   "metadata": {},
   "source": [
    "Tuples are immutable whereas lists are mutable so we can add as many tuples as we want inside the list\n"
   ]
  },
  {
   "cell_type": "code",
   "execution_count": 122,
   "id": "980e7b7d",
   "metadata": {},
   "outputs": [],
   "source": [
    "lst.append((\"Tuples\",\"inside\",\"list\"))"
   ]
  },
  {
   "cell_type": "code",
   "execution_count": 123,
   "id": "4fef6fe8",
   "metadata": {},
   "outputs": [
    {
     "name": "stdout",
     "output_type": "stream",
     "text": [
      "[(1, 2, 3, 4), (5, 6, 7, 8), ('Tuples', 'inside', 'list')]\n"
     ]
    }
   ],
   "source": [
    "print(lst)"
   ]
  },
  {
   "cell_type": "code",
   "execution_count": 124,
   "id": "55f0365b",
   "metadata": {},
   "outputs": [],
   "source": [
    "lst.remove((1,2,3,4))\n"
   ]
  },
  {
   "cell_type": "code",
   "execution_count": 125,
   "id": "d29c4d50",
   "metadata": {},
   "outputs": [
    {
     "name": "stdout",
     "output_type": "stream",
     "text": [
      "[(5, 6, 7, 8), ('Tuples', 'inside', 'list')]\n"
     ]
    }
   ],
   "source": [
    "print(lst)"
   ]
  },
  {
   "cell_type": "markdown",
   "id": "6e7e1f0c",
   "metadata": {},
   "source": [
    "## 15. Nesting Lists within tuples"
   ]
  },
  {
   "cell_type": "code",
   "execution_count": 128,
   "id": "6e86ac9f",
   "metadata": {},
   "outputs": [],
   "source": [
    "tpl=(['a','b','c','d'],['e','f','g','h'])"
   ]
  },
  {
   "cell_type": "code",
   "execution_count": 129,
   "id": "87a6d95b",
   "metadata": {},
   "outputs": [
    {
     "name": "stdout",
     "output_type": "stream",
     "text": [
      "(['a', 'b', 'c', 'd'], ['e', 'f', 'g', 'h'])\n"
     ]
    }
   ],
   "source": [
    "print(tpl)"
   ]
  },
  {
   "cell_type": "code",
   "execution_count": 134,
   "id": "cd47add9",
   "metadata": {},
   "outputs": [],
   "source": [
    "tpl[0].append('z')"
   ]
  },
  {
   "cell_type": "code",
   "execution_count": 140,
   "id": "cec821ae",
   "metadata": {},
   "outputs": [
    {
     "name": "stdout",
     "output_type": "stream",
     "text": [
      "(['a', 'b', 'c', 'd', 'z'], ['e', 'f', 'g', 'h'])\n"
     ]
    }
   ],
   "source": [
    "print(tpl)"
   ]
  },
  {
   "cell_type": "code",
   "execution_count": 141,
   "id": "6875330e",
   "metadata": {},
   "outputs": [],
   "source": [
    "tpl[0].remove('z')"
   ]
  },
  {
   "cell_type": "code",
   "execution_count": 142,
   "id": "d252655f",
   "metadata": {},
   "outputs": [
    {
     "name": "stdout",
     "output_type": "stream",
     "text": [
      "(['a', 'b', 'c', 'd'], ['e', 'f', 'g', 'h'])\n"
     ]
    }
   ],
   "source": [
    "print(tpl)"
   ]
  },
  {
   "cell_type": "markdown",
   "id": "b6b4827a",
   "metadata": {},
   "source": [
    "## 16. Python Strings"
   ]
  },
  {
   "cell_type": "code",
   "execution_count": 15,
   "id": "df5b529a",
   "metadata": {},
   "outputs": [
    {
     "name": "stdout",
     "output_type": "stream",
     "text": [
      "simplilearn\n"
     ]
    }
   ],
   "source": [
    "stg=\"simplilearn\"\n",
    "print(stg)"
   ]
  },
  {
   "cell_type": "code",
   "execution_count": 146,
   "id": "8b48b7ea",
   "metadata": {},
   "outputs": [
    {
     "name": "stdout",
     "output_type": "stream",
     "text": [
      "Tim's Bitrthday\n"
     ]
    }
   ],
   "source": [
    "stg=\"Tim's Bitrthday\"\n",
    "print(stg)"
   ]
  },
  {
   "cell_type": "code",
   "execution_count": 160,
   "id": "590eeb19",
   "metadata": {},
   "outputs": [],
   "source": [
    "stg=\"Tim\\'s said,\\\"I\\'m Busy Today\\\"\""
   ]
  },
  {
   "cell_type": "code",
   "execution_count": 161,
   "id": "3d173aaa",
   "metadata": {},
   "outputs": [
    {
     "name": "stdout",
     "output_type": "stream",
     "text": [
      "Tim's said,\"I'm Busy Today\"\n"
     ]
    }
   ],
   "source": [
    "print(stg)"
   ]
  },
  {
   "cell_type": "code",
   "execution_count": 172,
   "id": "fc82b061",
   "metadata": {},
   "outputs": [
    {
     "name": "stdout",
     "output_type": "stream",
     "text": [
      "Hey There,\n",
      "Welcome to Simplilearn\n"
     ]
    }
   ],
   "source": [
    "stg='''Hey There,\n",
    "Welcome to Simplilearn'''\n",
    "print(stg)"
   ]
  },
  {
   "cell_type": "code",
   "execution_count": 173,
   "id": "5cffb1c0",
   "metadata": {},
   "outputs": [
    {
     "data": {
      "text/plain": [
       "33"
      ]
     },
     "execution_count": 173,
     "metadata": {},
     "output_type": "execute_result"
    }
   ],
   "source": [
    "len(stg)"
   ]
  },
  {
   "cell_type": "markdown",
   "id": "16c4a86f",
   "metadata": {},
   "source": [
    "If I want to acces every character as my string one by one, I can do this by using for loop "
   ]
  },
  {
   "cell_type": "code",
   "execution_count": 195,
   "id": "77e476b7",
   "metadata": {},
   "outputs": [],
   "source": [
    "stg=\"Simplilearn\""
   ]
  },
  {
   "cell_type": "code",
   "execution_count": 17,
   "id": "92d551da",
   "metadata": {},
   "outputs": [
    {
     "name": "stdout",
     "output_type": "stream",
     "text": [
      "s i m p l i l e a r n "
     ]
    }
   ],
   "source": [
    "for i in stg:\n",
    "    print(i, end = \" \")"
   ]
  },
  {
   "cell_type": "code",
   "execution_count": 192,
   "id": "1ff723c2",
   "metadata": {},
   "outputs": [],
   "source": [
    "#Inordr to print it all in a same line you can add (i, end = \" \")"
   ]
  },
  {
   "cell_type": "code",
   "execution_count": 18,
   "id": "3f2223ec",
   "metadata": {},
   "outputs": [
    {
     "name": "stdout",
     "output_type": "stream",
     "text": [
      "s\n",
      "i\n",
      "m\n",
      "p\n",
      "l\n",
      "i\n",
      "l\n",
      "e\n",
      "a\n",
      "r\n",
      "n\n"
     ]
    }
   ],
   "source": [
    "for i in stg:\n",
    "    print(i)"
   ]
  },
  {
   "cell_type": "code",
   "execution_count": 194,
   "id": "8ad5cbd4",
   "metadata": {},
   "outputs": [
    {
     "name": "stdout",
     "output_type": "stream",
     "text": [
      "Simpl\n"
     ]
    }
   ],
   "source": [
    "print(stg[ : 5])"
   ]
  },
  {
   "cell_type": "code",
   "execution_count": 197,
   "id": "4af7dd7f",
   "metadata": {},
   "outputs": [
    {
     "name": "stdout",
     "output_type": "stream",
     "text": [
      "lilearn\n"
     ]
    }
   ],
   "source": [
    "print(stg[4: ])"
   ]
  },
  {
   "cell_type": "code",
   "execution_count": 223,
   "id": "76c7a95f",
   "metadata": {},
   "outputs": [],
   "source": [
    "stg=\"Welcome To Simplilearn\""
   ]
  },
  {
   "cell_type": "code",
   "execution_count": 209,
   "id": "9b315a66",
   "metadata": {},
   "outputs": [
    {
     "name": "stdout",
     "output_type": "stream",
     "text": [
      "WELCOME TO SIMPLILEARN\n"
     ]
    }
   ],
   "source": [
    "print(stg.upper())"
   ]
  },
  {
   "cell_type": "code",
   "execution_count": 204,
   "id": "359dcb8d",
   "metadata": {},
   "outputs": [
    {
     "name": "stdout",
     "output_type": "stream",
     "text": [
      "welcome to simplilearn\n"
     ]
    }
   ],
   "source": [
    "print(stg.lower())"
   ]
  },
  {
   "cell_type": "code",
   "execution_count": 212,
   "id": "4b7244e5",
   "metadata": {},
   "outputs": [
    {
     "name": "stdout",
     "output_type": "stream",
     "text": [
      "21\n"
     ]
    }
   ],
   "source": [
    "print(stg.find('n'))"
   ]
  },
  {
   "cell_type": "code",
   "execution_count": 213,
   "id": "f10dcc21",
   "metadata": {},
   "outputs": [
    {
     "name": "stdout",
     "output_type": "stream",
     "text": [
      "21\n"
     ]
    }
   ],
   "source": [
    "print(stg.index('n'))"
   ]
  },
  {
   "cell_type": "code",
   "execution_count": 214,
   "id": "06a10aa5",
   "metadata": {},
   "outputs": [
    {
     "data": {
      "text/plain": [
       "['Welcome', 'To', 'Simplilearn']"
      ]
     },
     "execution_count": 214,
     "metadata": {},
     "output_type": "execute_result"
    }
   ],
   "source": [
    "stg.split(\" \")"
   ]
  },
  {
   "cell_type": "code",
   "execution_count": 216,
   "id": "b4a1e323",
   "metadata": {},
   "outputs": [
    {
     "data": {
      "text/plain": [
       "'Welcome To Programming World'"
      ]
     },
     "execution_count": 216,
     "metadata": {},
     "output_type": "execute_result"
    }
   ],
   "source": [
    "stg.replace('Simplilearn','Programming World')"
   ]
  },
  {
   "cell_type": "code",
   "execution_count": 224,
   "id": "260debf0",
   "metadata": {},
   "outputs": [
    {
     "name": "stdout",
     "output_type": "stream",
     "text": [
      "<built-in method rpartition of str object at 0x0000016177815E90>\n"
     ]
    }
   ],
   "source": [
    "#Rpartition Method ---->It is more like a conversion from list to  tuples.\n",
    "stg.rpartition(\" to \")\n",
    "print(stg.rpartition)"
   ]
  },
  {
   "cell_type": "markdown",
   "id": "0fb20611",
   "metadata": {},
   "source": [
    "## 17. Concatination"
   ]
  },
  {
   "cell_type": "code",
   "execution_count": 225,
   "id": "fd82694d",
   "metadata": {},
   "outputs": [],
   "source": [
    "stg1=\"Good Morning\"\n",
    "stg2=\"Students\""
   ]
  },
  {
   "cell_type": "code",
   "execution_count": 227,
   "id": "55506ffb",
   "metadata": {},
   "outputs": [
    {
     "name": "stdout",
     "output_type": "stream",
     "text": [
      "Good Morning Students\n"
     ]
    }
   ],
   "source": [
    "print(stg1+ \" \" +stg2)"
   ]
  },
  {
   "cell_type": "code",
   "execution_count": 228,
   "id": "03749561",
   "metadata": {},
   "outputs": [],
   "source": [
    "stg1=\"hey\"\n",
    "stg2=\"there\"\n",
    "stg3=\"all\""
   ]
  },
  {
   "cell_type": "markdown",
   "id": "47d25ff5",
   "metadata": {},
   "source": [
    "## 18.  Python Dictionaries"
   ]
  },
  {
   "cell_type": "markdown",
   "id": "63f3d304",
   "metadata": {},
   "source": [
    "Syntax:variable_name={key1:value,key2:value2}"
   ]
  },
  {
   "cell_type": "code",
   "execution_count": 233,
   "id": "4a0b4753",
   "metadata": {},
   "outputs": [
    {
     "data": {
      "text/plain": [
       "dict"
      ]
     },
     "execution_count": 233,
     "metadata": {},
     "output_type": "execute_result"
    }
   ],
   "source": [
    "d1={}\n",
    "type(d1)"
   ]
  },
  {
   "cell_type": "code",
   "execution_count": 234,
   "id": "d86c47de",
   "metadata": {},
   "outputs": [],
   "source": [
    "d2={1:\"Welcome\",2:\"To\",3:\"Simplilearn\"}"
   ]
  },
  {
   "cell_type": "code",
   "execution_count": 235,
   "id": "600800f4",
   "metadata": {},
   "outputs": [
    {
     "name": "stdout",
     "output_type": "stream",
     "text": [
      "{1: 'Welcome', 2: 'To', 3: 'Simplilearn'}\n"
     ]
    }
   ],
   "source": [
    "print(d2)"
   ]
  },
  {
   "cell_type": "code",
   "execution_count": 236,
   "id": "0063d5bd",
   "metadata": {},
   "outputs": [],
   "source": [
    "d3={\"name\":\"Sam\",\"age\":22,\"profession\":\"Student\"}"
   ]
  },
  {
   "cell_type": "code",
   "execution_count": 237,
   "id": "e1422297",
   "metadata": {},
   "outputs": [
    {
     "name": "stdout",
     "output_type": "stream",
     "text": [
      "{'name': 'Sam', 'age': 22, 'profession': 'Student'}\n"
     ]
    }
   ],
   "source": [
    "print(d3)"
   ]
  },
  {
   "cell_type": "code",
   "execution_count": 242,
   "id": "ec46eda4",
   "metadata": {},
   "outputs": [
    {
     "name": "stdout",
     "output_type": "stream",
     "text": [
      "Sam\n"
     ]
    }
   ],
   "source": [
    "print(d3[\"name\"])"
   ]
  },
  {
   "cell_type": "code",
   "execution_count": 243,
   "id": "3567fc40",
   "metadata": {},
   "outputs": [
    {
     "name": "stdout",
     "output_type": "stream",
     "text": [
      "22\n"
     ]
    }
   ],
   "source": [
    "print(d3[\"age\"])"
   ]
  },
  {
   "cell_type": "code",
   "execution_count": 19,
   "id": "912bc7a1",
   "metadata": {},
   "outputs": [],
   "source": [
    "#Nested Dictionary\n",
    "d4={\"name\":{\"first\":\"Sam\",\"last\":\"Crew\"},\"age\":22,\"profession\":\"Student\"}"
   ]
  },
  {
   "cell_type": "code",
   "execution_count": 20,
   "id": "9d6c7ad3",
   "metadata": {},
   "outputs": [
    {
     "name": "stdout",
     "output_type": "stream",
     "text": [
      "Crew\n"
     ]
    }
   ],
   "source": [
    "print(d4[\"name\"][\"last\"])"
   ]
  },
  {
   "cell_type": "code",
   "execution_count": 253,
   "id": "df2e5abb",
   "metadata": {},
   "outputs": [],
   "source": [
    "#adding element to the dictionaries"
   ]
  },
  {
   "cell_type": "code",
   "execution_count": 276,
   "id": "7be83bcb",
   "metadata": {},
   "outputs": [],
   "source": [
    "d={0:\"Welcome\",1:(\"How\",\"are\",\"you\"),\"name\":{'first' : 'Sam', 'last': 'Crew'}}"
   ]
  },
  {
   "cell_type": "code",
   "execution_count": 259,
   "id": "b15306ea",
   "metadata": {},
   "outputs": [
    {
     "name": "stdout",
     "output_type": "stream",
     "text": [
      "Crew\n"
     ]
    }
   ],
   "source": [
    "print(d['name']['last'])"
   ]
  },
  {
   "cell_type": "code",
   "execution_count": 261,
   "id": "a178d26c",
   "metadata": {},
   "outputs": [
    {
     "name": "stdout",
     "output_type": "stream",
     "text": [
      "('How', 'are', 'you')\n"
     ]
    }
   ],
   "source": [
    "print(d[1])"
   ]
  },
  {
   "cell_type": "code",
   "execution_count": 262,
   "id": "d17cf0d7",
   "metadata": {},
   "outputs": [
    {
     "name": "stdout",
     "output_type": "stream",
     "text": [
      "are\n"
     ]
    }
   ],
   "source": [
    "print(d[1][1])"
   ]
  },
  {
   "cell_type": "code",
   "execution_count": 266,
   "id": "5d73022a",
   "metadata": {},
   "outputs": [
    {
     "name": "stdout",
     "output_type": "stream",
     "text": [
      "are\n"
     ]
    }
   ],
   "source": [
    "print(d.get(1)[1])"
   ]
  },
  {
   "cell_type": "code",
   "execution_count": 269,
   "id": "dceceb78",
   "metadata": {},
   "outputs": [
    {
     "name": "stdout",
     "output_type": "stream",
     "text": [
      "Welcome\n"
     ]
    }
   ],
   "source": [
    "#Deleting element \n",
    "print(d.pop(0))"
   ]
  },
  {
   "cell_type": "code",
   "execution_count": 270,
   "id": "9ef1dd6a",
   "metadata": {},
   "outputs": [
    {
     "name": "stdout",
     "output_type": "stream",
     "text": [
      "{1: ('How', 'are', 'you'), 'name': {'first': 'Sam', 'last': 'Crew'}}\n"
     ]
    }
   ],
   "source": [
    "print(d)"
   ]
  },
  {
   "cell_type": "code",
   "execution_count": 272,
   "id": "cd280b4b",
   "metadata": {},
   "outputs": [
    {
     "data": {
      "text/plain": [
       "('name', {'first': 'Sam', 'last': 'Crew'})"
      ]
     },
     "execution_count": 272,
     "metadata": {},
     "output_type": "execute_result"
    }
   ],
   "source": [
    "#pop item removes the last element of the dict \n",
    "d.popitem()"
   ]
  },
  {
   "cell_type": "code",
   "execution_count": 273,
   "id": "5e011883",
   "metadata": {},
   "outputs": [
    {
     "name": "stdout",
     "output_type": "stream",
     "text": [
      "{1: ('How', 'are', 'you')}\n"
     ]
    }
   ],
   "source": [
    "print(d)"
   ]
  },
  {
   "cell_type": "code",
   "execution_count": 281,
   "id": "37a816eb",
   "metadata": {},
   "outputs": [
    {
     "data": {
      "text/plain": [
       "dict_values(['Welcome', ('How', 'are', 'you'), {'first': 'Sam', 'last': 'Crew'}])"
      ]
     },
     "execution_count": 281,
     "metadata": {},
     "output_type": "execute_result"
    }
   ],
   "source": [
    "#using built in functions, it returns all the values\n",
    "\n",
    "#It returns all the values\n",
    "\n",
    "d.values()"
   ]
  },
  {
   "cell_type": "markdown",
   "id": "e24ac880",
   "metadata": {},
   "source": [
    "Creating dictionaries from keywords"
   ]
  },
  {
   "cell_type": "code",
   "execution_count": 285,
   "id": "21f11552",
   "metadata": {},
   "outputs": [
    {
     "data": {
      "text/plain": [
       "{'b': 1, 'a': 1, 'c': 1, 'd': 1}"
      ]
     },
     "execution_count": 285,
     "metadata": {},
     "output_type": "execute_result"
    }
   ],
   "source": [
    "keys={'a','b','c','d'}\n",
    "values = 1\n",
    "dict.fromkeys(keys, values)"
   ]
  },
  {
   "cell_type": "code",
   "execution_count": 286,
   "id": "0d5c5d19",
   "metadata": {},
   "outputs": [],
   "source": [
    "d.clear()"
   ]
  },
  {
   "cell_type": "code",
   "execution_count": 287,
   "id": "d2bb8126",
   "metadata": {},
   "outputs": [
    {
     "name": "stdout",
     "output_type": "stream",
     "text": [
      "{}\n"
     ]
    }
   ],
   "source": [
    "print(d)"
   ]
  },
  {
   "cell_type": "markdown",
   "id": "3fe25fe4",
   "metadata": {},
   "source": [
    "# 19. Sets In Python"
   ]
  },
  {
   "cell_type": "markdown",
   "id": "c3de5766",
   "metadata": {},
   "source": [
    "###### Sets is an unordered collection of unique elements --- and it does not repeat the same element"
   ]
  },
  {
   "cell_type": "markdown",
   "id": "be756782",
   "metadata": {},
   "source": [
    "Syntax : Variable_name =set([1,2,3,4])"
   ]
  },
  {
   "cell_type": "markdown",
   "id": "1612eb2f",
   "metadata": {},
   "source": [
    "Sets are itterable and mutable"
   ]
  },
  {
   "cell_type": "code",
   "execution_count": 21,
   "id": "426caadd",
   "metadata": {},
   "outputs": [],
   "source": [
    "#Sets\n",
    "s=set([1,2,3,4])"
   ]
  },
  {
   "cell_type": "code",
   "execution_count": 22,
   "id": "f3e6f24c",
   "metadata": {},
   "outputs": [
    {
     "name": "stdout",
     "output_type": "stream",
     "text": [
      "{1, 2, 3, 4}\n",
      "<class 'set'>\n"
     ]
    }
   ],
   "source": [
    "print(s)\n",
    "print(type(s))"
   ]
  },
  {
   "cell_type": "code",
   "execution_count": 23,
   "id": "03888bb3",
   "metadata": {},
   "outputs": [],
   "source": [
    "#adding element\n",
    "s.add('a')"
   ]
  },
  {
   "cell_type": "code",
   "execution_count": 24,
   "id": "67631008",
   "metadata": {},
   "outputs": [
    {
     "name": "stdout",
     "output_type": "stream",
     "text": [
      "{1, 2, 3, 4, 'a'}\n"
     ]
    }
   ],
   "source": [
    "print(s)"
   ]
  },
  {
   "cell_type": "code",
   "execution_count": 25,
   "id": "2c8ad36e",
   "metadata": {},
   "outputs": [],
   "source": [
    "#Frozen Sets -------------------> These are immutable \n",
    "fs=frozenset([1,2,3,4])"
   ]
  },
  {
   "cell_type": "code",
   "execution_count": 26,
   "id": "bfabb812",
   "metadata": {},
   "outputs": [
    {
     "ename": "AttributeError",
     "evalue": "'frozenset' object has no attribute 'add'",
     "output_type": "error",
     "traceback": [
      "\u001b[1;31m---------------------------------------------------------------------------\u001b[0m",
      "\u001b[1;31mAttributeError\u001b[0m                            Traceback (most recent call last)",
      "\u001b[1;32m<ipython-input-26-8fab0ab34c9c>\u001b[0m in \u001b[0;36m<module>\u001b[1;34m\u001b[0m\n\u001b[1;32m----> 1\u001b[1;33m \u001b[0mfs\u001b[0m\u001b[1;33m.\u001b[0m\u001b[0madd\u001b[0m\u001b[1;33m(\u001b[0m\u001b[1;34m'a'\u001b[0m\u001b[1;33m)\u001b[0m \u001b[1;31m# No surprises we'll get an error\u001b[0m\u001b[1;33m\u001b[0m\u001b[1;33m\u001b[0m\u001b[0m\n\u001b[0m",
      "\u001b[1;31mAttributeError\u001b[0m: 'frozenset' object has no attribute 'add'"
     ]
    }
   ],
   "source": [
    "fs.add('a') # No surprises we'll get an error"
   ]
  },
  {
   "cell_type": "code",
   "execution_count": 299,
   "id": "2072e466",
   "metadata": {},
   "outputs": [],
   "source": [
    "#Operations on set\n",
    "\n",
    "#Union set\n",
    "\n",
    "s1=set([1,2,3,4,5])\n",
    "s2=set([3,5,6,7,8,9,10])"
   ]
  },
  {
   "cell_type": "code",
   "execution_count": 300,
   "id": "22870850",
   "metadata": {
    "scrolled": true
   },
   "outputs": [
    {
     "name": "stdout",
     "output_type": "stream",
     "text": [
      "{1, 2, 3, 4, 5, 6, 7, 8, 9, 10}\n"
     ]
    }
   ],
   "source": [
    "print(s1.union(s2))"
   ]
  },
  {
   "cell_type": "code",
   "execution_count": 304,
   "id": "78355c8f",
   "metadata": {},
   "outputs": [
    {
     "name": "stdout",
     "output_type": "stream",
     "text": [
      "{1, 2, 4}\n"
     ]
    }
   ],
   "source": [
    "print(s1.difference(s2))"
   ]
  },
  {
   "cell_type": "markdown",
   "id": "89037096",
   "metadata": {},
   "source": [
    "# 20. If-else Statement in Python"
   ]
  },
  {
   "cell_type": "code",
   "execution_count": 2,
   "id": "265098bd",
   "metadata": {},
   "outputs": [
    {
     "name": "stdout",
     "output_type": "stream",
     "text": [
      "This is an if block\n",
      "This is out of the if block\n"
     ]
    }
   ],
   "source": [
    "#A program to know that the given number is even or not\n",
    "\n",
    "\n",
    "a=60\n",
    "if(a>=50):\n",
    "    print(\"This is an if block\")\n",
    "print(\"This is out of the if block\")"
   ]
  },
  {
   "cell_type": "code",
   "execution_count": 4,
   "id": "fc3df529",
   "metadata": {},
   "outputs": [
    {
     "name": "stdout",
     "output_type": "stream",
     "text": [
      "This is the if block\n",
      "i is an even number\n"
     ]
    }
   ],
   "source": [
    "i=20\n",
    "if i%2==0:\n",
    "    print(\"This is the if block\")\n",
    "    \n",
    "    \n",
    "    \n",
    "    print(\"i is an even number\")\n",
    "else:\n",
    "    print(\"This is an else block\")\n",
    "    print(\"i is not an even number\")"
   ]
  },
  {
   "cell_type": "markdown",
   "id": "8785fd5b",
   "metadata": {},
   "source": [
    "# 21. Nested If-Statement"
   ]
  },
  {
   "cell_type": "code",
   "execution_count": 4,
   "id": "2d1c6fcf",
   "metadata": {},
   "outputs": [
    {
     "name": "stdout",
     "output_type": "stream",
     "text": [
      "c is an odd number and less than 25\n"
     ]
    }
   ],
   "source": [
    "c=21\n",
    "if c<25:\n",
    "    if c%2==0:\n",
    "        print(\"c is an even number and less than 25\")\n",
    "    else:\n",
    "        print(\"c is an odd number and less than 25\")\n",
    "else:\n",
    "    print(\"c is greator than 25\")"
   ]
  },
  {
   "cell_type": "markdown",
   "id": "b2f802f0",
   "metadata": {},
   "source": [
    "## 22.  If-elif else Statement"
   ]
  },
  {
   "cell_type": "code",
   "execution_count": 27,
   "id": "576d015a",
   "metadata": {},
   "outputs": [
    {
     "name": "stdout",
     "output_type": "stream",
     "text": [
      "Enter a word : a\n",
      "This is the vowel a\n"
     ]
    }
   ],
   "source": [
    "var=str(input(\"Enter a word : \"))\n",
    "if var=='a':\n",
    "    print(\"This is the vowel a\")\n",
    "elif var=='e':\n",
    "    print(\"This is the vowel e\")\n",
    "elif var=='i':\n",
    "    print(\"This is the vowel i\")\n",
    "elif var=='o':\n",
    "    print(\"This is the vowel o\")\n",
    "elif var=='u':\n",
    "    print(\"This is the vowel e\")\n",
    "else:\n",
    "    print(\"This is a consonant\")"
   ]
  },
  {
   "cell_type": "code",
   "execution_count": null,
   "id": "df5f3999",
   "metadata": {},
   "outputs": [],
   "source": []
  }
 ],
 "metadata": {
  "kernelspec": {
   "display_name": "Python 3",
   "language": "python",
   "name": "python3"
  },
  "language_info": {
   "codemirror_mode": {
    "name": "ipython",
    "version": 3
   },
   "file_extension": ".py",
   "mimetype": "text/x-python",
   "name": "python",
   "nbconvert_exporter": "python",
   "pygments_lexer": "ipython3",
   "version": "3.8.8"
  }
 },
 "nbformat": 4,
 "nbformat_minor": 5
}
